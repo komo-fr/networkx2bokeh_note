{
 "cells": [
  {
   "cell_type": "code",
   "execution_count": 1,
   "metadata": {
    "ExecuteTime": {
     "end_time": "2018-10-17T07:48:10.476162Z",
     "start_time": "2018-10-17T07:48:08.968182Z"
    }
   },
   "outputs": [],
   "source": [
    "import sys\n",
    "from math import sqrt\n",
    "\n",
    "import matplotlib.pyplot as plt\n",
    "import networkx as nx\n",
    "import numpy as np\n",
    "import bokeh\n",
    "from bokeh.io import show, output_notebook, output_file\n",
    "from bokeh.models import Plot, Range1d, MultiLine, Circle, StaticLayoutProvider\n",
    "from bokeh.models import HoverTool, BoxZoomTool, ResetTool\n",
    "from bokeh.models.graphs import from_networkx"
   ]
  },
  {
   "cell_type": "code",
   "execution_count": 2,
   "metadata": {
    "ExecuteTime": {
     "end_time": "2018-10-17T07:48:19.265997Z",
     "start_time": "2018-10-17T07:48:19.260205Z"
    }
   },
   "outputs": [
    {
     "name": "stdout",
     "output_type": "stream",
     "text": [
      "NetworkX: 2.2\n",
      "Bokeh: 0.13.0\n",
      "Python: 3.6.2\n"
     ]
    }
   ],
   "source": [
    "print('NetworkX: {}'.format(nx.__version__))\n",
    "print('Bokeh: {}'.format(bokeh.__version__))\n",
    "print('Python: {}.{}.{}'.format(sys.version_info.major, sys.version_info.minor, sys.version_info.micro))"
   ]
  },
  {
   "cell_type": "markdown",
   "metadata": {},
   "source": [
    "# Prepare Data"
   ]
  },
  {
   "cell_type": "code",
   "execution_count": 5,
   "metadata": {
    "ExecuteTime": {
     "end_time": "2018-10-17T07:48:21.732777Z",
     "start_time": "2018-10-17T07:48:21.374364Z"
    }
   },
   "outputs": [
    {
     "name": "stderr",
     "output_type": "stream",
     "text": [
      "/Users/tomoko/anaconda/envs/pepmap_env/lib/python3.6/site-packages/networkx/drawing/nx_pylab.py:611: MatplotlibDeprecationWarning: isinstance(..., numbers.Number)\n",
      "  if cb.is_numlike(alpha):\n"
     ]
    },
    {
     "data": {
      "image/png": "[encoded data removed]",
      "text/plain": [
       "<Figure size 432x288 with 1 Axes>"
      ]
     },
     "metadata": {},
     "output_type": "display_data"
    }
   ],
   "source": [
    "node_datasource_for_nx = [(1, {'size': 10, 'size_a': 10, 'size_b': 20}),\n",
    "                          (2,{'size': 10, 'size_a': 10, 'size_b': 20})]\n",
    "\n",
    "edge_datasource_for_nx = [(1, 2, {})]\n",
    "\n",
    "G = nx.Graph()\n",
    "G.add_nodes_from(node_datasource_for_nx)\n",
    "G.add_edges_from(edge_datasource_for_nx)\n",
    "\n",
    "fig = plt.figure()\n",
    "pos = nx.spring_layout(G)\n",
    "nx.draw(G)\n",
    "plt.show()"
   ]
  },
  {
   "cell_type": "markdown",
   "metadata": {},
   "source": [
    "# Switch node size by a radio button\n",
    "- radio group\n",
    "    + https://bokeh.pydata.org/en/latest/docs/user_guide/interaction/widgets.html#radio-group\n",
    "- CustomJS with a Python function\n",
    "    + http://bokeh.pydata.org/en/latest/docs/user_guide/interaction/callbacks.html#customjs-with-a-python-function"
   ]
  },
  {
   "cell_type": "code",
   "execution_count": 6,
   "metadata": {
    "ExecuteTime": {
     "end_time": "2018-10-17T07:48:22.620298Z",
     "start_time": "2018-10-17T07:48:22.612381Z"
    }
   },
   "outputs": [],
   "source": [
    "from bokeh.layouts import widgetbox\n",
    "from bokeh.models.widgets import RadioGroup, Slider\n",
    "from bokeh.layouts import row, column\n",
    "from bokeh.models import CustomJS"
   ]
  },
  {
   "cell_type": "code",
   "execution_count": 7,
   "metadata": {
    "ExecuteTime": {
     "end_time": "2018-10-17T07:48:23.031623Z",
     "start_time": "2018-10-17T07:48:23.014289Z"
    }
   },
   "outputs": [],
   "source": [
    "# Convert a graph to Bokeh\n",
    "graph_renderer = from_networkx(G, nx.spring_layout)"
   ]
  },
  {
   "cell_type": "code",
   "execution_count": 8,
   "metadata": {
    "ExecuteTime": {
     "end_time": "2018-10-17T07:48:23.428965Z",
     "start_time": "2018-10-17T07:48:23.396705Z"
    }
   },
   "outputs": [],
   "source": [
    "# Setup a widget\n",
    "source = graph_renderer.node_renderer.data_source\n",
    "\n",
    "def callback_update(source=source):\n",
    "    radio_dict = {0: 'size_a',\n",
    "                  1: 'size_b'}\n",
    "    \n",
    "    data = source.data\n",
    "    selected_value = cb_obj.active\n",
    "    data['size'] = data[radio_dict[selected_value]]\n",
    "    source.change.emit()\n",
    "    \n",
    "radio_group = RadioGroup(labels=[\"Size A\", \"Size B\"],\n",
    "                         active=0,\n",
    "                         callback=CustomJS.from_py_func(callback_update))"
   ]
  },
  {
   "cell_type": "code",
   "execution_count": 9,
   "metadata": {
    "ExecuteTime": {
     "end_time": "2018-10-17T07:48:24.209855Z",
     "start_time": "2018-10-17T07:48:23.915783Z"
    },
    "code_folding": []
   },
   "outputs": [],
   "source": [
    "# Show\n",
    "plot = Plot(plot_width=300, plot_height=300,\n",
    "            x_range=Range1d(-1.1, 1.1), y_range=Range1d(-1.1, 1.1))\n",
    "\n",
    "graph_renderer.node_renderer.glyph = Circle(size='size')\n",
    "graph_renderer.edge_renderer.glyph = MultiLine(line_color=\"#CCCCCC\",\n",
    "                                               line_alpha=0.8,\n",
    "                                               line_width=1)\n",
    "plot.renderers.append(graph_renderer)\n",
    "\n",
    "# output_notebook()\n",
    "\n",
    "output_file(\"test.html\")\n",
    "show(column([radio_group, plot]))"
   ]
  },
  {
   "cell_type": "markdown",
   "metadata": {},
   "source": [
    "# Adjust node size by a slider"
   ]
  },
  {
   "cell_type": "code",
   "execution_count": 10,
   "metadata": {
    "ExecuteTime": {
     "end_time": "2018-10-17T07:48:33.700657Z",
     "start_time": "2018-10-17T07:48:33.683548Z"
    }
   },
   "outputs": [],
   "source": [
    "# Convert a graph to Bokeh\n",
    "graph_renderer = from_networkx(G, nx.spring_layout)"
   ]
  },
  {
   "cell_type": "code",
   "execution_count": 11,
   "metadata": {
    "ExecuteTime": {
     "end_time": "2018-10-17T07:48:34.124750Z",
     "start_time": "2018-10-17T07:48:34.107233Z"
    }
   },
   "outputs": [],
   "source": [
    "# Setup a widget\n",
    "source = graph_renderer.node_renderer.data_source\n",
    "\n",
    "def callback_update(source=source):\n",
    "    data = source.data\n",
    "    adjust_value = cb_obj.value\n",
    "    print(adjust_value)\n",
    "    new_data = []\n",
    "    for value in data['size_a']:\n",
    "        new_data.append(value * adjust_value)\n",
    "    data['size'] = new_data\n",
    "    print(data['size'])\n",
    "    source.change.emit()\n",
    "    \n",
    "slider = Slider(start=0, end=10, value=1, step=.1,\n",
    "                callback=CustomJS.from_py_func(callback_update))"
   ]
  },
  {
   "cell_type": "code",
   "execution_count": 12,
   "metadata": {
    "ExecuteTime": {
     "end_time": "2018-10-17T07:48:34.884299Z",
     "start_time": "2018-10-17T07:48:34.512214Z"
    }
   },
   "outputs": [],
   "source": [
    "# Show\n",
    "plot = Plot(plot_width=300, plot_height=300,\n",
    "            x_range=Range1d(-1.1, 1.1), y_range=Range1d(-1.1, 1.1))\n",
    "\n",
    "graph_renderer.node_renderer.glyph = Circle(size='size')\n",
    "graph_renderer.edge_renderer.glyph = MultiLine(line_color=\"#CCCCCC\",\n",
    "                                               line_alpha=0.8,\n",
    "                                               line_width=1)\n",
    "plot.renderers.append(graph_renderer)\n",
    "\n",
    "# output_notebook()\n",
    "output_file(\"test.html\")\n",
    "show(column([slider, plot]))"
   ]
  },
  {
   "cell_type": "markdown",
   "metadata": {},
   "source": [
    "# Karate Club Network\n",
    "## Prepare Data"
   ]
  },
  {
   "cell_type": "code",
   "execution_count": 19,
   "metadata": {
    "ExecuteTime": {
     "end_time": "2018-10-17T07:49:49.262466Z",
     "start_time": "2018-10-17T07:49:49.210681Z"
    }
   },
   "outputs": [],
   "source": [
    "def calc_radius(area: float) -> float:\n",
    "    r = np.sqrt(area / np.pi)\n",
    "    return r\n",
    "\n",
    "# Prepare Data\n",
    "G = nx.binomial_graph(n=5, p=0.3, seed=1, directed=True)\n",
    "pos = nx.spring_layout(G)\n",
    "\n",
    "# Calc size\n",
    "in_degree_size_dict = {key: in_degree * 100 + 50 for key, in_degree in dict(G.in_degree()).items()}\n",
    "out_degree_size_dict = {key: out_degree * 100 + 50 for key, out_degree in dict(G.out_degree()).items()}\n",
    "\n",
    "nx.set_node_attributes(G, in_degree_size_dict, 'in_degree_size')\n",
    "nx.set_node_attributes(G, out_degree_size_dict, 'out_degree_size')\n",
    "\n",
    "# Calc size for Bokeh (area -> radius)\n",
    "in_degree_size_for_bokeh_dict = {key: calc_radius(attr['in_degree_size']) for key, attr in dict(G.node(data=True)).items()}\n",
    "out_degree_size_for_bokeh_dict = {key: calc_radius(attr['out_degree_size']) for key, attr in dict(G.node(data=True)).items()}\n",
    "\n",
    "nx.set_node_attributes(G, in_degree_size_for_bokeh_dict, 'size')\n",
    "nx.set_node_attributes(G, in_degree_size_for_bokeh_dict, 'in_degree_size_for_bokeh')\n",
    "nx.set_node_attributes(G, out_degree_size_for_bokeh_dict, 'out_degree_size_for_bokeh')"
   ]
  },
  {
   "cell_type": "code",
   "execution_count": 20,
   "metadata": {
    "ExecuteTime": {
     "end_time": "2018-10-17T07:49:50.238004Z",
     "start_time": "2018-10-17T07:49:49.893711Z"
    },
    "cell_style": "split",
    "scrolled": true
   },
   "outputs": [
    {
     "name": "stdout",
     "output_type": "stream",
     "text": [
      "in degree\n"
     ]
    },
    {
     "data": {
      "image/png": "[encoded data removed]",
      "text/plain": [
       "<Figure size 432x288 with 1 Axes>"
      ]
     },
     "metadata": {},
     "output_type": "display_data"
    }
   ],
   "source": [
    "print('in degree')\n",
    "fig = plt.figure()\n",
    "in_degree_size = [in_degree_size_dict[key] for key in G.nodes()]\n",
    "nx.draw(G, pos=pos, node_size=in_degree_size)\n",
    "plt.show()"
   ]
  },
  {
   "cell_type": "code",
   "execution_count": 21,
   "metadata": {
    "ExecuteTime": {
     "end_time": "2018-10-17T07:49:51.313158Z",
     "start_time": "2018-10-17T07:49:50.768009Z"
    },
    "cell_style": "split"
   },
   "outputs": [
    {
     "name": "stdout",
     "output_type": "stream",
     "text": [
      "out degree\n"
     ]
    },
    {
     "data": {
      "image/png": "[encoded data removed]",
      "text/plain": [
       "<Figure size 432x288 with 1 Axes>"
      ]
     },
     "metadata": {},
     "output_type": "display_data"
    }
   ],
   "source": [
    "print('out degree')\n",
    "fig = plt.figure()\n",
    "out_degree_size = [out_degree_size_dict[key] for key in G.nodes()]\n",
    "nx.draw(G, pos=pos, node_size=out_degree_size)\n",
    "plt.show()"
   ]
  },
  {
   "cell_type": "code",
   "execution_count": 22,
   "metadata": {
    "ExecuteTime": {
     "end_time": "2018-10-17T07:49:51.451334Z",
     "start_time": "2018-10-17T07:49:51.443015Z"
    }
   },
   "outputs": [],
   "source": [
    "# Convert a graph to Bokeh\n",
    "graph_renderer = from_networkx(G, pos)"
   ]
  },
  {
   "cell_type": "code",
   "execution_count": 23,
   "metadata": {
    "ExecuteTime": {
     "end_time": "2018-10-17T07:49:52.125958Z",
     "start_time": "2018-10-17T07:49:52.103436Z"
    }
   },
   "outputs": [],
   "source": [
    "# Setup a widget\n",
    "source = graph_renderer.node_renderer.data_source\n",
    "\n",
    "def callback_radio_group(source=source):\n",
    "    radio_dict = {0: 'in_degree_size_for_bokeh',\n",
    "                  1: 'out_degree_size_for_bokeh'}\n",
    "    \n",
    "    data = source.data\n",
    "    selected_value = cb_obj.active\n",
    "    data['size'] = data[radio_dict[selected_value]]\n",
    "    source.change.emit()\n",
    "\n",
    "radio_group = RadioGroup(labels=[\"in degree\", \"out degree\"],\n",
    "                         active=0,\n",
    "                         callback=CustomJS.from_py_func(callback_radio_group))\n",
    "    \n",
    "def callback_slider(source=source, radio_group=radio_group):\n",
    "    radio_dict = {0: 'in_degree_size_for_bokeh',\n",
    "                  1: 'out_degree_size_for_bokeh'}\n",
    "    \n",
    "    data = source.data\n",
    "    adjust_value = cb_obj.value\n",
    "    new_data = []\n",
    "    for value in data[radio_dict[radio_group.active]]:\n",
    "        new_data.append(value * adjust_value)\n",
    "    data['size'] = new_data\n",
    "    source.change.emit()\n",
    "    \n",
    "slider = Slider(start=0, end=10, value=1, step=.1,\n",
    "                callback=CustomJS.from_py_func(callback_slider))"
   ]
  },
  {
   "cell_type": "code",
   "execution_count": 24,
   "metadata": {
    "ExecuteTime": {
     "end_time": "2018-10-17T07:49:53.197414Z",
     "start_time": "2018-10-17T07:49:52.571728Z"
    }
   },
   "outputs": [
    {
     "data": {
      "text/html": [
       "\n",
       "    <div class=\"bk-root\">\n",
       "        <a href=\"https://bokeh.pydata.org\" target=\"_blank\" class=\"bk-logo bk-logo-small bk-logo-notebook\"></a>\n",
       "        <span id=\"1776\">Loading BokehJS ...</span>\n",
       "    </div>"
      ]
     },
     "metadata": {},
     "output_type": "display_data"
    },
    {
     "data": {
      "application/javascript": [
       "\n",
       "(function(root) {\n",
       "  function now() {\n",
       "    return new Date();\n",
       "  }\n",
       "\n",
       "  var force = true;\n",
       "\n",
       "  if (typeof (root._bokeh_onload_callbacks) === \"undefined\" || force === true) {\n",
       "    root._bokeh_onload_callbacks = [];\n",
       "    root._bokeh_is_loading = undefined;\n",
       "  }\n",
       "\n",
       "  var JS_MIME_TYPE = 'application/javascript';\n",
       "  var HTML_MIME_TYPE = 'text/html';\n",
       "  var EXEC_MIME_TYPE = 'application/vnd.bokehjs_exec.v0+json';\n",
       "  var CLASS_NAME = 'output_bokeh rendered_html';\n",
       "\n",
       "  /**\n",
       "   * Render data to the DOM node\n",
       "   */\n",
       "  function render(props, node) {\n",
       "    var script = document.createElement(\"script\");\n",
       "    node.appendChild(script);\n",
       "  }\n",
       "\n",
       "  /**\n",
       "   * Handle when an output is cleared or removed\n",
       "   */\n",
       "  function handleClearOutput(event, handle) {\n",
       "    var cell = handle.cell;\n",
       "\n",
       "    var id = cell.output_area._bokeh_element_id;\n",
       "    var server_id = cell.output_area._bokeh_server_id;\n",
       "    // Clean up Bokeh references\n",
       "    if (id != null && id in Bokeh.index) {\n",
       "      Bokeh.index[id].model.document.clear();\n",
       "      delete Bokeh.index[id];\n",
       "    }\n",
       "\n",
       "    if (server_id !== undefined) {\n",
       "      // Clean up Bokeh references\n",
       "      var cmd = \"from bokeh.io.state import curstate; print(curstate().uuid_to_server['\" + server_id + \"'].get_sessions()[0].document.roots[0]._id)\";\n",
       "      cell.notebook.kernel.execute(cmd, {\n",
       "        iopub: {\n",
       "          output: function(msg) {\n",
       "            var id = msg.content.text.trim();\n",
       "            if (id in Bokeh.index) {\n",
       "              Bokeh.index[id].model.document.clear();\n",
       "              delete Bokeh.index[id];\n",
       "            }\n",
       "          }\n",
       "        }\n",
       "      });\n",
       "      // Destroy server and session\n",
       "      var cmd = \"import bokeh.io.notebook as ion; ion.destroy_server('\" + server_id + \"')\";\n",
       "      cell.notebook.kernel.execute(cmd);\n",
       "    }\n",
       "  }\n",
       "\n",
       "  /**\n",
       "   * Handle when a new output is added\n",
       "   */\n",
       "  function handleAddOutput(event, handle) {\n",
       "    var output_area = handle.output_area;\n",
       "    var output = handle.output;\n",
       "\n",
       "    // limit handleAddOutput to display_data with EXEC_MIME_TYPE content only\n",
       "    if ((output.output_type != \"display_data\") || (!output.data.hasOwnProperty(EXEC_MIME_TYPE))) {\n",
       "      return\n",
       "    }\n",
       "\n",
       "    var toinsert = output_area.element.find(\".\" + CLASS_NAME.split(' ')[0]);\n",
       "\n",
       "    if (output.metadata[EXEC_MIME_TYPE][\"id\"] !== undefined) {\n",
       "      toinsert[toinsert.length - 1].firstChild.textContent = output.data[JS_MIME_TYPE];\n",
       "      // store reference to embed id on output_area\n",
       "      output_area._bokeh_element_id = output.metadata[EXEC_MIME_TYPE][\"id\"];\n",
       "    }\n",
       "    if (output.metadata[EXEC_MIME_TYPE][\"server_id\"] !== undefined) {\n",
       "      var bk_div = document.createElement(\"div\");\n",
       "      bk_div.innerHTML = output.data[HTML_MIME_TYPE];\n",
       "      var script_attrs = bk_div.children[0].attributes;\n",
       "      for (var i = 0; i < script_attrs.length; i++) {\n",
       "        toinsert[toinsert.length - 1].firstChild.setAttribute(script_attrs[i].name, script_attrs[i].value);\n",
       "      }\n",
       "      // store reference to server id on output_area\n",
       "      output_area._bokeh_server_id = output.metadata[EXEC_MIME_TYPE][\"server_id\"];\n",
       "    }\n",
       "  }\n",
       "\n",
       "  function register_renderer(events, OutputArea) {\n",
       "\n",
       "    function append_mime(data, metadata, element) {\n",
       "      // create a DOM node to render to\n",
       "      var toinsert = this.create_output_subarea(\n",
       "        metadata,\n",
       "        CLASS_NAME,\n",
       "        EXEC_MIME_TYPE\n",
       "      );\n",
       "      this.keyboard_manager.register_events(toinsert);\n",
       "      // Render to node\n",
       "      var props = {data: data, metadata: metadata[EXEC_MIME_TYPE]};\n",
       "      render(props, toinsert[toinsert.length - 1]);\n",
       "      element.append(toinsert);\n",
       "      return toinsert\n",
       "    }\n",
       "\n",
       "    /* Handle when an output is cleared or removed */\n",
       "    events.on('clear_output.CodeCell', handleClearOutput);\n",
       "    events.on('delete.Cell', handleClearOutput);\n",
       "\n",
       "    /* Handle when a new output is added */\n",
       "    events.on('output_added.OutputArea', handleAddOutput);\n",
       "\n",
       "    /**\n",
       "     * Register the mime type and append_mime function with output_area\n",
       "     */\n",
       "    OutputArea.prototype.register_mime_type(EXEC_MIME_TYPE, append_mime, {\n",
       "      /* Is output safe? */\n",
       "      safe: true,\n",
       "      /* Index of renderer in `output_area.display_order` */\n",
       "      index: 0\n",
       "    });\n",
       "  }\n",
       "\n",
       "  // register the mime type if in Jupyter Notebook environment and previously unregistered\n",
       "  if (root.Jupyter !== undefined) {\n",
       "    var events = require('base/js/events');\n",
       "    var OutputArea = require('notebook/js/outputarea').OutputArea;\n",
       "\n",
       "    if (OutputArea.prototype.mime_types().indexOf(EXEC_MIME_TYPE) == -1) {\n",
       "      register_renderer(events, OutputArea);\n",
       "    }\n",
       "  }\n",
       "\n",
       "  \n",
       "  if (typeof (root._bokeh_timeout) === \"undefined\" || force === true) {\n",
       "    root._bokeh_timeout = Date.now() + 5000;\n",
       "    root._bokeh_failed_load = false;\n",
       "  }\n",
       "\n",
       "  var NB_LOAD_WARNING = {'data': {'text/html':\n",
       "     \"<div style='background-color: #fdd'>\\n\"+\n",
       "     \"<p>\\n\"+\n",
       "     \"BokehJS does not appear to have successfully loaded. If loading BokehJS from CDN, this \\n\"+\n",
       "     \"may be due to a slow or bad network connection. Possible fixes:\\n\"+\n",
       "     \"</p>\\n\"+\n",
       "     \"<ul>\\n\"+\n",
       "     \"<li>re-rerun `output_notebook()` to attempt to load from CDN again, or</li>\\n\"+\n",
       "     \"<li>use INLINE resources instead, as so:</li>\\n\"+\n",
       "     \"</ul>\\n\"+\n",
       "     \"<code>\\n\"+\n",
       "     \"from bokeh.resources import INLINE\\n\"+\n",
       "     \"output_notebook(resources=INLINE)\\n\"+\n",
       "     \"</code>\\n\"+\n",
       "     \"</div>\"}};\n",
       "\n",
       "  function display_loaded() {\n",
       "    var el = document.getElementById(\"1776\");\n",
       "    if (el != null) {\n",
       "      el.textContent = \"BokehJS is loading...\";\n",
       "    }\n",
       "    if (root.Bokeh !== undefined) {\n",
       "      if (el != null) {\n",
       "        el.textContent = \"BokehJS \" + root.Bokeh.version + \" successfully loaded.\";\n",
       "      }\n",
       "    } else if (Date.now() < root._bokeh_timeout) {\n",
       "      setTimeout(display_loaded, 100)\n",
       "    }\n",
       "  }\n",
       "\n",
       "\n",
       "  function run_callbacks() {\n",
       "    try {\n",
       "      root._bokeh_onload_callbacks.forEach(function(callback) { callback() });\n",
       "    }\n",
       "    finally {\n",
       "      delete root._bokeh_onload_callbacks\n",
       "    }\n",
       "    console.info(\"Bokeh: all callbacks have finished\");\n",
       "  }\n",
       "\n",
       "  function load_libs(js_urls, callback) {\n",
       "    root._bokeh_onload_callbacks.push(callback);\n",
       "    if (root._bokeh_is_loading > 0) {\n",
       "      console.log(\"Bokeh: BokehJS is being loaded, scheduling callback at\", now());\n",
       "      return null;\n",
       "    }\n",
       "    if (js_urls == null || js_urls.length === 0) {\n",
       "      run_callbacks();\n",
       "      return null;\n",
       "    }\n",
       "    console.log(\"Bokeh: BokehJS not loaded, scheduling load and callback at\", now());\n",
       "    root._bokeh_is_loading = js_urls.length;\n",
       "    for (var i = 0; i < js_urls.length; i++) {\n",
       "      var url = js_urls[i];\n",
       "      var s = document.createElement('script');\n",
       "      s.src = url;\n",
       "      s.async = false;\n",
       "      s.onreadystatechange = s.onload = function() {\n",
       "        root._bokeh_is_loading--;\n",
       "        if (root._bokeh_is_loading === 0) {\n",
       "          console.log(\"Bokeh: all BokehJS libraries loaded\");\n",
       "          run_callbacks()\n",
       "        }\n",
       "      };\n",
       "      s.onerror = function() {\n",
       "        console.warn(\"failed to load library \" + url);\n",
       "      };\n",
       "      console.log(\"Bokeh: injecting script tag for BokehJS library: \", url);\n",
       "      document.getElementsByTagName(\"head\")[0].appendChild(s);\n",
       "    }\n",
       "  };var element = document.getElementById(\"1776\");\n",
       "  if (element == null) {\n",
       "    console.log(\"Bokeh: ERROR: autoload.js configured with elementid '1776' but no matching script tag was found. \")\n",
       "    return false;\n",
       "  }\n",
       "\n",
       "  var js_urls = [\"https://cdn.pydata.org/bokeh/release/bokeh-0.13.0.min.js\", \"https://cdn.pydata.org/bokeh/release/bokeh-widgets-0.13.0.min.js\", \"https://cdn.pydata.org/bokeh/release/bokeh-tables-0.13.0.min.js\", \"https://cdn.pydata.org/bokeh/release/bokeh-gl-0.13.0.min.js\"];\n",
       "\n",
       "  var inline_js = [\n",
       "    function(Bokeh) {\n",
       "      Bokeh.set_log_level(\"info\");\n",
       "    },\n",
       "    \n",
       "    function(Bokeh) {\n",
       "      \n",
       "    },\n",
       "    function(Bokeh) {\n",
       "      console.log(\"Bokeh: injecting CSS: https://cdn.pydata.org/bokeh/release/bokeh-0.13.0.min.css\");\n",
       "      Bokeh.embed.inject_css(\"https://cdn.pydata.org/bokeh/release/bokeh-0.13.0.min.css\");\n",
       "      console.log(\"Bokeh: injecting CSS: https://cdn.pydata.org/bokeh/release/bokeh-widgets-0.13.0.min.css\");\n",
       "      Bokeh.embed.inject_css(\"https://cdn.pydata.org/bokeh/release/bokeh-widgets-0.13.0.min.css\");\n",
       "      console.log(\"Bokeh: injecting CSS: https://cdn.pydata.org/bokeh/release/bokeh-tables-0.13.0.min.css\");\n",
       "      Bokeh.embed.inject_css(\"https://cdn.pydata.org/bokeh/release/bokeh-tables-0.13.0.min.css\");\n",
       "    }\n",
       "  ];\n",
       "\n",
       "  function run_inline_js() {\n",
       "    \n",
       "    if ((root.Bokeh !== undefined) || (force === true)) {\n",
       "      for (var i = 0; i < inline_js.length; i++) {\n",
       "        inline_js[i].call(root, root.Bokeh);\n",
       "      }if (force === true) {\n",
       "        display_loaded();\n",
       "      }} else if (Date.now() < root._bokeh_timeout) {\n",
       "      setTimeout(run_inline_js, 100);\n",
       "    } else if (!root._bokeh_failed_load) {\n",
       "      console.log(\"Bokeh: BokehJS failed to load within specified timeout.\");\n",
       "      root._bokeh_failed_load = true;\n",
       "    } else if (force !== true) {\n",
       "      var cell = $(document.getElementById(\"1776\")).parents('.cell').data().cell;\n",
       "      cell.output_area.append_execute_result(NB_LOAD_WARNING)\n",
       "    }\n",
       "\n",
       "  }\n",
       "\n",
       "  if (root._bokeh_is_loading === 0) {\n",
       "    console.log(\"Bokeh: BokehJS loaded, going straight to plotting\");\n",
       "    run_inline_js();\n",
       "  } else {\n",
       "    load_libs(js_urls, function() {\n",
       "      console.log(\"Bokeh: BokehJS plotting callback run at\", now());\n",
       "      run_inline_js();\n",
       "    });\n",
       "  }\n",
       "}(window));"
      ],
      "application/vnd.bokehjs_load.v0+json": "\n(function(root) {\n  function now() {\n    return new Date();\n  }\n\n  var force = true;\n\n  if (typeof (root._bokeh_onload_callbacks) === \"undefined\" || force === true) {\n    root._bokeh_onload_callbacks = [];\n    root._bokeh_is_loading = undefined;\n  }\n\n  \n\n  \n  if (typeof (root._bokeh_timeout) === \"undefined\" || force === true) {\n    root._bokeh_timeout = Date.now() + 5000;\n    root._bokeh_failed_load = false;\n  }\n\n  var NB_LOAD_WARNING = {'data': {'text/html':\n     \"<div style='background-color: #fdd'>\\n\"+\n     \"<p>\\n\"+\n     \"BokehJS does not appear to have successfully loaded. If loading BokehJS from CDN, this \\n\"+\n     \"may be due to a slow or bad network connection. Possible fixes:\\n\"+\n     \"</p>\\n\"+\n     \"<ul>\\n\"+\n     \"<li>re-rerun `output_notebook()` to attempt to load from CDN again, or</li>\\n\"+\n     \"<li>use INLINE resources instead, as so:</li>\\n\"+\n     \"</ul>\\n\"+\n     \"<code>\\n\"+\n     \"from bokeh.resources import INLINE\\n\"+\n     \"output_notebook(resources=INLINE)\\n\"+\n     \"</code>\\n\"+\n     \"</div>\"}};\n\n  function display_loaded() {\n    var el = document.getElementById(\"1776\");\n    if (el != null) {\n      el.textContent = \"BokehJS is loading...\";\n    }\n    if (root.Bokeh !== undefined) {\n      if (el != null) {\n        el.textContent = \"BokehJS \" + root.Bokeh.version + \" successfully loaded.\";\n      }\n    } else if (Date.now() < root._bokeh_timeout) {\n      setTimeout(display_loaded, 100)\n    }\n  }\n\n\n  function run_callbacks() {\n    try {\n      root._bokeh_onload_callbacks.forEach(function(callback) { callback() });\n    }\n    finally {\n      delete root._bokeh_onload_callbacks\n    }\n    console.info(\"Bokeh: all callbacks have finished\");\n  }\n\n  function load_libs(js_urls, callback) {\n    root._bokeh_onload_callbacks.push(callback);\n    if (root._bokeh_is_loading > 0) {\n      console.log(\"Bokeh: BokehJS is being loaded, scheduling callback at\", now());\n      return null;\n    }\n    if (js_urls == null || js_urls.length === 0) {\n      run_callbacks();\n      return null;\n    }\n    console.log(\"Bokeh: BokehJS not loaded, scheduling load and callback at\", now());\n    root._bokeh_is_loading = js_urls.length;\n    for (var i = 0; i < js_urls.length; i++) {\n      var url = js_urls[i];\n      var s = document.createElement('script');\n      s.src = url;\n      s.async = false;\n      s.onreadystatechange = s.onload = function() {\n        root._bokeh_is_loading--;\n        if (root._bokeh_is_loading === 0) {\n          console.log(\"Bokeh: all BokehJS libraries loaded\");\n          run_callbacks()\n        }\n      };\n      s.onerror = function() {\n        console.warn(\"failed to load library \" + url);\n      };\n      console.log(\"Bokeh: injecting script tag for BokehJS library: \", url);\n      document.getElementsByTagName(\"head\")[0].appendChild(s);\n    }\n  };var element = document.getElementById(\"1776\");\n  if (element == null) {\n    console.log(\"Bokeh: ERROR: autoload.js configured with elementid '1776' but no matching script tag was found. \")\n    return false;\n  }\n\n  var js_urls = [\"https://cdn.pydata.org/bokeh/release/bokeh-0.13.0.min.js\", \"https://cdn.pydata.org/bokeh/release/bokeh-widgets-0.13.0.min.js\", \"https://cdn.pydata.org/bokeh/release/bokeh-tables-0.13.0.min.js\", \"https://cdn.pydata.org/bokeh/release/bokeh-gl-0.13.0.min.js\"];\n\n  var inline_js = [\n    function(Bokeh) {\n      Bokeh.set_log_level(\"info\");\n    },\n    \n    function(Bokeh) {\n      \n    },\n    function(Bokeh) {\n      console.log(\"Bokeh: injecting CSS: https://cdn.pydata.org/bokeh/release/bokeh-0.13.0.min.css\");\n      Bokeh.embed.inject_css(\"https://cdn.pydata.org/bokeh/release/bokeh-0.13.0.min.css\");\n      console.log(\"Bokeh: injecting CSS: https://cdn.pydata.org/bokeh/release/bokeh-widgets-0.13.0.min.css\");\n      Bokeh.embed.inject_css(\"https://cdn.pydata.org/bokeh/release/bokeh-widgets-0.13.0.min.css\");\n      console.log(\"Bokeh: injecting CSS: https://cdn.pydata.org/bokeh/release/bokeh-tables-0.13.0.min.css\");\n      Bokeh.embed.inject_css(\"https://cdn.pydata.org/bokeh/release/bokeh-tables-0.13.0.min.css\");\n    }\n  ];\n\n  function run_inline_js() {\n    \n    if ((root.Bokeh !== undefined) || (force === true)) {\n      for (var i = 0; i < inline_js.length; i++) {\n        inline_js[i].call(root, root.Bokeh);\n      }if (force === true) {\n        display_loaded();\n      }} else if (Date.now() < root._bokeh_timeout) {\n      setTimeout(run_inline_js, 100);\n    } else if (!root._bokeh_failed_load) {\n      console.log(\"Bokeh: BokehJS failed to load within specified timeout.\");\n      root._bokeh_failed_load = true;\n    } else if (force !== true) {\n      var cell = $(document.getElementById(\"1776\")).parents('.cell').data().cell;\n      cell.output_area.append_execute_result(NB_LOAD_WARNING)\n    }\n\n  }\n\n  if (root._bokeh_is_loading === 0) {\n    console.log(\"Bokeh: BokehJS loaded, going straight to plotting\");\n    run_inline_js();\n  } else {\n    load_libs(js_urls, function() {\n      console.log(\"Bokeh: BokehJS plotting callback run at\", now());\n      run_inline_js();\n    });\n  }\n}(window));"
     },
     "metadata": {},
     "output_type": "display_data"
    },
    {
     "data": {
      "text/html": [
       "\n",
       "\n",
       "\n",
       "\n",
       "\n",
       "\n",
       "  <div class=\"bk-root\" id=\"f1ffbf3e-2f7d-4c06-939c-ac3f1aa55ee3\"></div>\n"
      ]
     },
     "metadata": {},
     "output_type": "display_data"
    },
    {
     "data": {
      "application/javascript": [
       "(function(root) {\n",
       "  function embed_document(root) {\n",
       "    \n",
       "  var docs_json = {\"5512ae88-5b8f-48bc-ac0a-8dfc49882b6d\":{\"roots\":{\"references\":[{\"attributes\":{\"children\":[{\"id\":\"1777\",\"type\":\"WidgetBox\"},{\"id\":\"1778\",\"type\":\"WidgetBox\"},{\"id\":\"1763\",\"type\":\"Plot\"}]},\"id\":\"1779\",\"type\":\"Column\"},{\"attributes\":{\"active_drag\":\"auto\",\"active_inspect\":\"auto\",\"active_multi\":null,\"active_scroll\":\"auto\",\"active_tap\":\"auto\"},\"id\":\"1801\",\"type\":\"Toolbar\"},{\"attributes\":{},\"id\":\"1806\",\"type\":\"NodesOnly\"},{\"attributes\":{\"callback\":null,\"data\":{\"in_degree_size\":[250,350,50,150,150],\"in_degree_size_for_bokeh\":[8.920620580763856,10.55502061411188,3.989422804014327,6.90988298942671,6.90988298942671],\"index\":[0,1,2,3,4],\"out_degree_size\":[250,50,250,150,250],\"out_degree_size_for_bokeh\":[8.920620580763856,3.989422804014327,8.920620580763856,6.90988298942671,8.920620580763856],\"size\":[8.920620580763856,10.55502061411188,3.989422804014327,6.90988298942671,6.90988298942671]},\"selected\":{\"id\":\"1812\",\"type\":\"Selection\"},\"selection_policy\":{\"id\":\"1813\",\"type\":\"UnionRenderers\"}},\"id\":\"1741\",\"type\":\"ColumnDataSource\"},{\"attributes\":{},\"id\":\"1813\",\"type\":\"UnionRenderers\"},{\"attributes\":{},\"id\":\"1812\",\"type\":\"Selection\"},{\"attributes\":{\"callback\":null,\"data\":{\"end\":[1,4,0,1,1,0,3],\"start\":[0,0,2,2,3,4,4]},\"selected\":{\"id\":\"1814\",\"type\":\"Selection\"},\"selection_policy\":{\"id\":\"1815\",\"type\":\"UnionRenderers\"}},\"id\":\"1745\",\"type\":\"ColumnDataSource\"},{\"attributes\":{\"source\":{\"id\":\"1745\",\"type\":\"ColumnDataSource\"}},\"id\":\"1747\",\"type\":\"CDSView\"},{\"attributes\":{\"edge_renderer\":{\"id\":\"1746\",\"type\":\"GlyphRenderer\"},\"inspection_policy\":{\"id\":\"1806\",\"type\":\"NodesOnly\"},\"layout_provider\":{\"id\":\"1752\",\"type\":\"StaticLayoutProvider\"},\"node_renderer\":{\"id\":\"1742\",\"type\":\"GlyphRenderer\"},\"selection_policy\":{\"id\":\"1811\",\"type\":\"NodesOnly\"}},\"id\":\"1739\",\"type\":\"GraphRenderer\"},{\"attributes\":{\"graph_layout\":{\"0\":[0.20986663047077053,0.047883893391877194],\"1\":[-0.7579751848325031,-0.7749373204153434],\"2\":[0.30865676484914034,-0.8357981020792731],\"3\":[-0.3453980672878923,0.5628515291027386],\"4\":[0.5848498568004862,1.0]}},\"id\":\"1752\",\"type\":\"StaticLayoutProvider\"},{\"attributes\":{},\"id\":\"1798\",\"type\":\"LinearScale\"},{\"attributes\":{\"callback\":{\"id\":\"1759\",\"type\":\"CustomJS\"},\"end\":10,\"start\":0,\"step\":0.1,\"value\":1},\"id\":\"1760\",\"type\":\"Slider\"},{\"attributes\":{\"children\":[{\"id\":\"1758\",\"type\":\"RadioGroup\"}]},\"id\":\"1777\",\"type\":\"WidgetBox\"},{\"attributes\":{\"args\":{\"radio_group\":{\"id\":\"1758\",\"type\":\"RadioGroup\"},\"source\":{\"id\":\"1741\",\"type\":\"ColumnDataSource\"}},\"code\":\"var _pyfunc_op_mult = function (a, b) { // nargs: 2\\n    if ((typeof a === 'number') + (typeof b === 'number') === 1) {\\n        if (a.constructor === String) return _pymeth_repeat.call(a, b);\\n        if (b.constructor === String) return _pymeth_repeat.call(b, a);\\n        if (Array.isArray(b)) {var t=a; a=b; b=t;}\\n        if (Array.isArray(a)) {\\n            var res = []; for (var i=0; i<b; i++) res = res.concat(a);\\n            return res;\\n        }\\n    } return a * b;\\n};\\nvar _pymeth_append = function (x) { // nargs: 1\\n    if (!Array.isArray(this)) return this.append.apply(this, arguments);\\n    this.push(x);\\n};\\nvar _pymeth_repeat = function(count) { // nargs: 0\\n    if (this.repeat) return this.repeat(count);\\n    if (count < 1) return '';\\n    var result = '', pattern = this.valueOf();\\n    while (count > 1) {\\n        if (count & 1) result += pattern;\\n        count >>= 1, pattern += pattern;\\n    }\\n    return result + pattern;\\n};\\nvar cb;\\ncb = function flx_cb (source, radio_group) {\\n    var adjust_value, data, new_data, radio_dict, stub1_seq, stub2_itr, value;\\n    source = (source === undefined) ? source: source;\\n    radio_group = (radio_group === undefined) ? radio_group: radio_group;\\n    radio_dict = ({0: \\\"in_degree_size_for_bokeh\\\", 1: \\\"out_degree_size_for_bokeh\\\"});\\n    data = source.data;\\n    adjust_value = cb_obj.value;\\n    new_data = [];\\n    stub1_seq = data[radio_dict[radio_group.active]];\\n    if ((typeof stub1_seq === \\\"object\\\") && (!Array.isArray(stub1_seq))) { stub1_seq = Object.keys(stub1_seq);}\\n    for (stub2_itr = 0; stub2_itr < stub1_seq.length; stub2_itr += 1) {\\n        value = stub1_seq[stub2_itr];\\n        _pymeth_append.call(new_data, _pyfunc_op_mult(value, adjust_value));\\n    }\\n    data[\\\"size\\\"] = new_data;\\n    source.change.emit();\\n    return null;\\n};\\ncb(source, radio_group);\\n\"},\"id\":\"1759\",\"type\":\"CustomJS\"},{\"attributes\":{\"callback\":null,\"end\":1.1,\"start\":-1.1},\"id\":\"1761\",\"type\":\"Range1d\"},{\"attributes\":{\"plot_height\":300,\"plot_width\":300,\"renderers\":[{\"id\":\"1739\",\"type\":\"GraphRenderer\"}],\"title\":{\"id\":\"1800\",\"type\":\"Title\"},\"toolbar\":{\"id\":\"1801\",\"type\":\"Toolbar\"},\"x_range\":{\"id\":\"1761\",\"type\":\"Range1d\"},\"x_scale\":{\"id\":\"1798\",\"type\":\"LinearScale\"},\"y_range\":{\"id\":\"1762\",\"type\":\"Range1d\"},\"y_scale\":{\"id\":\"1799\",\"type\":\"LinearScale\"}},\"id\":\"1763\",\"type\":\"Plot\"},{\"attributes\":{\"line_alpha\":{\"value\":0.8},\"line_color\":{\"value\":\"#CCCCCC\"}},\"id\":\"1771\",\"type\":\"MultiLine\"},{\"attributes\":{\"children\":[{\"id\":\"1760\",\"type\":\"Slider\"}]},\"id\":\"1778\",\"type\":\"WidgetBox\"},{\"attributes\":{\"data_source\":{\"id\":\"1745\",\"type\":\"ColumnDataSource\"},\"glyph\":{\"id\":\"1771\",\"type\":\"MultiLine\"},\"hover_glyph\":null,\"muted_glyph\":null,\"view\":{\"id\":\"1747\",\"type\":\"CDSView\"}},\"id\":\"1746\",\"type\":\"GlyphRenderer\"},{\"attributes\":{\"active\":0,\"callback\":{\"id\":\"1757\",\"type\":\"CustomJS\"},\"labels\":[\"in degree\",\"out degree\"]},\"id\":\"1758\",\"type\":\"RadioGroup\"},{\"attributes\":{},\"id\":\"1799\",\"type\":\"LinearScale\"},{\"attributes\":{\"args\":{\"source\":{\"id\":\"1741\",\"type\":\"ColumnDataSource\"}},\"code\":\"var cb;\\ncb = function flx_cb (source) {\\n    var data, radio_dict, selected_value;\\n    source = (source === undefined) ? source: source;\\n    radio_dict = ({0: \\\"in_degree_size_for_bokeh\\\", 1: \\\"out_degree_size_for_bokeh\\\"});\\n    data = source.data;\\n    selected_value = cb_obj.active;\\n    data[\\\"size\\\"] = data[radio_dict[selected_value]];\\n    source.change.emit();\\n    return null;\\n};\\ncb(source);\\n\"},\"id\":\"1757\",\"type\":\"CustomJS\"},{\"attributes\":{\"size\":{\"field\":\"size\",\"units\":\"screen\"}},\"id\":\"1766\",\"type\":\"Circle\"},{\"attributes\":{},\"id\":\"1815\",\"type\":\"UnionRenderers\"},{\"attributes\":{\"callback\":null,\"end\":1.1,\"start\":-1.1},\"id\":\"1762\",\"type\":\"Range1d\"},{\"attributes\":{\"data_source\":{\"id\":\"1741\",\"type\":\"ColumnDataSource\"},\"glyph\":{\"id\":\"1766\",\"type\":\"Circle\"},\"hover_glyph\":null,\"muted_glyph\":null,\"view\":{\"id\":\"1743\",\"type\":\"CDSView\"}},\"id\":\"1742\",\"type\":\"GlyphRenderer\"},{\"attributes\":{\"plot\":null,\"text\":\"\"},\"id\":\"1800\",\"type\":\"Title\"},{\"attributes\":{},\"id\":\"1814\",\"type\":\"Selection\"},{\"attributes\":{\"source\":{\"id\":\"1741\",\"type\":\"ColumnDataSource\"}},\"id\":\"1743\",\"type\":\"CDSView\"},{\"attributes\":{},\"id\":\"1811\",\"type\":\"NodesOnly\"}],\"root_ids\":[\"1779\"]},\"title\":\"Bokeh Application\",\"version\":\"0.13.0\"}};\n",
       "  var render_items = [{\"docid\":\"5512ae88-5b8f-48bc-ac0a-8dfc49882b6d\",\"roots\":{\"1779\":\"f1ffbf3e-2f7d-4c06-939c-ac3f1aa55ee3\"}}];\n",
       "  root.Bokeh.embed.embed_items_notebook(docs_json, render_items);\n",
       "\n",
       "  }\n",
       "  if (root.Bokeh !== undefined) {\n",
       "    embed_document(root);\n",
       "  } else {\n",
       "    var attempts = 0;\n",
       "    var timer = setInterval(function(root) {\n",
       "      if (root.Bokeh !== undefined) {\n",
       "        embed_document(root);\n",
       "        clearInterval(timer);\n",
       "      }\n",
       "      attempts++;\n",
       "      if (attempts > 100) {\n",
       "        console.log(\"Bokeh: ERROR: Unable to run BokehJS code because BokehJS library is missing\");\n",
       "        clearInterval(timer);\n",
       "      }\n",
       "    }, 10, root)\n",
       "  }\n",
       "})(window);"
      ],
      "application/vnd.bokehjs_exec.v0+json": ""
     },
     "metadata": {
      "application/vnd.bokehjs_exec.v0+json": {
       "id": "1779"
      }
     },
     "output_type": "display_data"
    }
   ],
   "source": [
    "# Show\n",
    "plot = Plot(plot_width=300, plot_height=300,\n",
    "            x_range=Range1d(-1.1, 1.1), y_range=Range1d(-1.1, 1.1))\n",
    "\n",
    "graph_renderer.node_renderer.glyph = Circle(size='size')\n",
    "graph_renderer.edge_renderer.glyph = MultiLine(line_color=\"#CCCCCC\",\n",
    "                                               line_alpha=0.8,\n",
    "                                               line_width=1)\n",
    "plot.renderers.append(graph_renderer)\n",
    "\n",
    "output_notebook()\n",
    "show(column([radio_group, slider, plot]))"
   ]
  }
 ],
 "metadata": {
  "hide_input": false,
  "kernelspec": {
   "display_name": "Environment (conda_pepmap_env)",
   "language": "python",
   "name": "conda_pepmap_env"
  },
  "nbTranslate": {
   "displayLangs": [
    "*"
   ],
   "hotkey": "alt-t",
   "langInMainMenu": true,
   "sourceLang": "en",
   "targetLang": "fr",
   "useGoogleTranslate": true
  },
  "notify_time": "5",
  "toc": {
   "nav_menu": {},
   "number_sections": true,
   "sideBar": true,
   "skip_h1_title": false,
   "toc_cell": false,
   "toc_position": {},
   "toc_section_display": "block",
   "toc_window_display": false
  },
  "varInspector": {
   "cols": {
    "lenName": 16,
    "lenType": 16,
    "lenVar": 40
   },
   "kernels_config": {
    "python": {
     "delete_cmd_postfix": "",
     "delete_cmd_prefix": "del ",
     "library": "var_list.py",
     "varRefreshCmd": "print(var_dic_list())"
    },
    "r": {
     "delete_cmd_postfix": ") ",
     "delete_cmd_prefix": "rm(",
     "library": "var_list.r",
     "varRefreshCmd": "cat(var_dic_list()) "
    }
   },
   "types_to_exclude": [
    "module",
    "function",
    "builtin_function_or_method",
    "instance",
    "_Feature"
   ],
   "window_display": false
  }
 },
 "nbformat": 4,
 "nbformat_minor": 2
}
