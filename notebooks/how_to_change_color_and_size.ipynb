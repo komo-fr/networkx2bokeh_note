{
 "cells": [
  {
   "cell_type": "markdown",
   "metadata": {},
   "source": [
    "# NetworkX -> Bokeh: Change node color and size with node attributes"
   ]
  },
  {
   "cell_type": "markdown",
   "metadata": {},
   "source": [
    "This note is an example code for answers to the following questions.\n",
    "- https://stackoverflow.com/questions/52673098/how-to-pass-node-attributes-from-networkx-to-bokeh"
   ]
  },
  {
   "cell_type": "code",
   "execution_count": 1,
   "metadata": {
    "ExecuteTime": {
     "end_time": "2018-10-12T09:17:57.235831Z",
     "start_time": "2018-10-12T09:17:55.719892Z"
    }
   },
   "outputs": [],
   "source": [
    "import sys\n",
    "from math import sqrt\n",
    "\n",
    "import matplotlib.pyplot as plt\n",
    "import networkx as nx\n",
    "import numpy as np\n",
    "import bokeh\n",
    "from bokeh.io import show, output_notebook, output_file\n",
    "from bokeh.models import Plot, Range1d, MultiLine, Circle, StaticLayoutProvider\n",
    "from bokeh.models import HoverTool, BoxZoomTool, ResetTool\n",
    "from bokeh.models.graphs import from_networkx\n",
    "\n",
    "%matplotlib inline"
   ]
  },
  {
   "cell_type": "code",
   "execution_count": 2,
   "metadata": {
    "ExecuteTime": {
     "end_time": "2018-10-12T09:17:57.248836Z",
     "start_time": "2018-10-12T09:17:57.239017Z"
    }
   },
   "outputs": [
    {
     "name": "stdout",
     "output_type": "stream",
     "text": [
      "NetworkX: 2.2rc1.dev_20181012091755\n",
      "Bokeh: 0+unknown\n",
      "Python: 3.6.2\n"
     ]
    }
   ],
   "source": [
    "print('NetworkX: {}'.format(nx.__version__))\n",
    "print('Bokeh: {}'.format(bokeh.__version__))\n",
    "print('Python: {}.{}.{}'.format(sys.version_info.major, sys.version_info.minor, sys.version_info.micro))"
   ]
  },
  {
   "cell_type": "markdown",
   "metadata": {},
   "source": [
    "# How to change node color with node attributes\n",
    "- <span class=\"mark\">Bokeh versions before 1.0 </span>\n",
    "    - from_networkx does **NOT** pass the node/edge attributes.\n",
    "- <span class=\"mark\">Bokeh 1.0 and beyond</span>\n",
    "    - from_networkx **passes** the node/edge attributes to GraphRenderer's node_renderer/edge_renderer.\n",
    "    - Thefore it's possible to hover these information using the node attributes converted in from_networkx.\n",
    "    - Similarly, node/edge attributes can also be used for color information.\n",
    "    - **See Also:**\n",
    "        + **issue [#8183](https://github.com/bokeh/bokeh/issues/8183) [Feature Request] In the function ‘from_networkx’, convert NetworkX node/edge attributes to Bokeh node_renderer/edge_renderer data_source.**"
   ]
  },
  {
   "cell_type": "code",
   "execution_count": 3,
   "metadata": {
    "ExecuteTime": {
     "end_time": "2018-10-12T09:17:57.567500Z",
     "start_time": "2018-10-12T09:17:57.252829Z"
    }
   },
   "outputs": [
    {
     "data": {
      "image/png": "[encoded data removed]",
      "text/plain": [
       "<matplotlib.figure.Figure at 0x117b75cf8>"
      ]
     },
     "metadata": {},
     "output_type": "display_data"
    }
   ],
   "source": [
    "# Prepare Data\n",
    "Dataset1 = ['A', 'B', 'C', 'D', 'E', 'F']\n",
    "Dataset2 = ['ONE', 'TWO', 'THREE', 'FOUR', 'FIVE', 'TWENTY_EIGHT']\n",
    "Edgelist = [('A', 'ONE'), ('B', 'ONE'), ('E', 'ONE'), ('A', 'TWO'),\n",
    "            ('A', 'THREE'), ('A', 'FOUR'), ('C', 'THREE'), ('D', 'FIVE'), ('D', 'TWENTY_EIGHT')]\n",
    "G = nx.Graph()\n",
    "G.add_nodes_from(Dataset1, color= 'green')  \n",
    "G.add_nodes_from(Dataset2, color='blue') \n",
    "G.add_edges_from(Edgelist, weight=0.8)\n",
    "\n",
    "layout = nx.spring_layout(G, k= 1.1 / sqrt(G.number_of_nodes()), iterations=100)\n",
    "\n",
    "# Draw with NetworkX / matplotlib\n",
    "nx.draw(G, layout, node_color=[attr['color'] for node, attr in G.nodes(data=True)])"
   ]
  },
  {
   "cell_type": "code",
   "execution_count": 4,
   "metadata": {
    "ExecuteTime": {
     "end_time": "2018-10-12T09:17:57.700440Z",
     "start_time": "2018-10-12T09:17:57.570965Z"
    }
   },
   "outputs": [
    {
     "data": {
      "text/html": [
       "\n",
       "    <div class=\"bk-root\">\n",
       "        <a href=\"https://bokeh.pydata.org\" target=\"_blank\" class=\"bk-logo bk-logo-small bk-logo-notebook\"></a>\n",
       "        <span id=\"1040\">Loading BokehJS ...</span>\n",
       "    </div>"
      ]
     },
     "metadata": {},
     "output_type": "display_data"
    },
    {
     "data": {
      "application/javascript": [
       "\n",
       "(function(root) {\n",
       "  function now() {\n",
       "    return new Date();\n",
       "  }\n",
       "\n",
       "  var force = true;\n",
       "\n",
       "  if (typeof (root._bokeh_onload_callbacks) === \"undefined\" || force === true) {\n",
       "    root._bokeh_onload_callbacks = [];\n",
       "    root._bokeh_is_loading = undefined;\n",
       "  }\n",
       "\n",
       "  var JS_MIME_TYPE = 'application/javascript';\n",
       "  var HTML_MIME_TYPE = 'text/html';\n",
       "  var EXEC_MIME_TYPE = 'application/vnd.bokehjs_exec.v0+json';\n",
       "  var CLASS_NAME = 'output_bokeh rendered_html';\n",
       "\n",
       "  /**\n",
       "   * Render data to the DOM node\n",
       "   */\n",
       "  function render(props, node) {\n",
       "    var script = document.createElement(\"script\");\n",
       "    node.appendChild(script);\n",
       "  }\n",
       "\n",
       "  /**\n",
       "   * Handle when an output is cleared or removed\n",
       "   */\n",
       "  function handleClearOutput(event, handle) {\n",
       "    var cell = handle.cell;\n",
       "\n",
       "    var id = cell.output_area._bokeh_element_id;\n",
       "    var server_id = cell.output_area._bokeh_server_id;\n",
       "    // Clean up Bokeh references\n",
       "    if (id != null && id in Bokeh.index) {\n",
       "      Bokeh.index[id].model.document.clear();\n",
       "      delete Bokeh.index[id];\n",
       "    }\n",
       "\n",
       "    if (server_id !== undefined) {\n",
       "      // Clean up Bokeh references\n",
       "      var cmd = \"from bokeh.io.state import curstate; print(curstate().uuid_to_server['\" + server_id + \"'].get_sessions()[0].document.roots[0]._id)\";\n",
       "      cell.notebook.kernel.execute(cmd, {\n",
       "        iopub: {\n",
       "          output: function(msg) {\n",
       "            var id = msg.content.text.trim();\n",
       "            if (id in Bokeh.index) {\n",
       "              Bokeh.index[id].model.document.clear();\n",
       "              delete Bokeh.index[id];\n",
       "            }\n",
       "          }\n",
       "        }\n",
       "      });\n",
       "      // Destroy server and session\n",
       "      var cmd = \"import bokeh.io.notebook as ion; ion.destroy_server('\" + server_id + \"')\";\n",
       "      cell.notebook.kernel.execute(cmd);\n",
       "    }\n",
       "  }\n",
       "\n",
       "  /**\n",
       "   * Handle when a new output is added\n",
       "   */\n",
       "  function handleAddOutput(event, handle) {\n",
       "    var output_area = handle.output_area;\n",
       "    var output = handle.output;\n",
       "\n",
       "    // limit handleAddOutput to display_data with EXEC_MIME_TYPE content only\n",
       "    if ((output.output_type != \"display_data\") || (!output.data.hasOwnProperty(EXEC_MIME_TYPE))) {\n",
       "      return\n",
       "    }\n",
       "\n",
       "    var toinsert = output_area.element.find(\".\" + CLASS_NAME.split(' ')[0]);\n",
       "\n",
       "    if (output.metadata[EXEC_MIME_TYPE][\"id\"] !== undefined) {\n",
       "      toinsert[toinsert.length - 1].firstChild.textContent = output.data[JS_MIME_TYPE];\n",
       "      // store reference to embed id on output_area\n",
       "      output_area._bokeh_element_id = output.metadata[EXEC_MIME_TYPE][\"id\"];\n",
       "    }\n",
       "    if (output.metadata[EXEC_MIME_TYPE][\"server_id\"] !== undefined) {\n",
       "      var bk_div = document.createElement(\"div\");\n",
       "      bk_div.innerHTML = output.data[HTML_MIME_TYPE];\n",
       "      var script_attrs = bk_div.children[0].attributes;\n",
       "      for (var i = 0; i < script_attrs.length; i++) {\n",
       "        toinsert[toinsert.length - 1].firstChild.setAttribute(script_attrs[i].name, script_attrs[i].value);\n",
       "      }\n",
       "      // store reference to server id on output_area\n",
       "      output_area._bokeh_server_id = output.metadata[EXEC_MIME_TYPE][\"server_id\"];\n",
       "    }\n",
       "  }\n",
       "\n",
       "  function register_renderer(events, OutputArea) {\n",
       "\n",
       "    function append_mime(data, metadata, element) {\n",
       "      // create a DOM node to render to\n",
       "      var toinsert = this.create_output_subarea(\n",
       "        metadata,\n",
       "        CLASS_NAME,\n",
       "        EXEC_MIME_TYPE\n",
       "      );\n",
       "      this.keyboard_manager.register_events(toinsert);\n",
       "      // Render to node\n",
       "      var props = {data: data, metadata: metadata[EXEC_MIME_TYPE]};\n",
       "      render(props, toinsert[toinsert.length - 1]);\n",
       "      element.append(toinsert);\n",
       "      return toinsert\n",
       "    }\n",
       "\n",
       "    /* Handle when an output is cleared or removed */\n",
       "    events.on('clear_output.CodeCell', handleClearOutput);\n",
       "    events.on('delete.Cell', handleClearOutput);\n",
       "\n",
       "    /* Handle when a new output is added */\n",
       "    events.on('output_added.OutputArea', handleAddOutput);\n",
       "\n",
       "    /**\n",
       "     * Register the mime type and append_mime function with output_area\n",
       "     */\n",
       "    OutputArea.prototype.register_mime_type(EXEC_MIME_TYPE, append_mime, {\n",
       "      /* Is output safe? */\n",
       "      safe: true,\n",
       "      /* Index of renderer in `output_area.display_order` */\n",
       "      index: 0\n",
       "    });\n",
       "  }\n",
       "\n",
       "  // register the mime type if in Jupyter Notebook environment and previously unregistered\n",
       "  if (root.Jupyter !== undefined) {\n",
       "    var events = require('base/js/events');\n",
       "    var OutputArea = require('notebook/js/outputarea').OutputArea;\n",
       "\n",
       "    if (OutputArea.prototype.mime_types().indexOf(EXEC_MIME_TYPE) == -1) {\n",
       "      register_renderer(events, OutputArea);\n",
       "    }\n",
       "  }\n",
       "\n",
       "  \n",
       "  if (typeof (root._bokeh_timeout) === \"undefined\" || force === true) {\n",
       "    root._bokeh_timeout = Date.now() + 5000;\n",
       "    root._bokeh_failed_load = false;\n",
       "  }\n",
       "\n",
       "  var NB_LOAD_WARNING = {'data': {'text/html':\n",
       "     \"<div style='background-color: #fdd'>\\n\"+\n",
       "     \"<p>\\n\"+\n",
       "     \"BokehJS does not appear to have successfully loaded. If loading BokehJS from CDN, this \\n\"+\n",
       "     \"may be due to a slow or bad network connection. Possible fixes:\\n\"+\n",
       "     \"</p>\\n\"+\n",
       "     \"<ul>\\n\"+\n",
       "     \"<li>re-rerun `output_notebook()` to attempt to load from CDN again, or</li>\\n\"+\n",
       "     \"<li>use INLINE resources instead, as so:</li>\\n\"+\n",
       "     \"</ul>\\n\"+\n",
       "     \"<code>\\n\"+\n",
       "     \"from bokeh.resources import INLINE\\n\"+\n",
       "     \"output_notebook(resources=INLINE)\\n\"+\n",
       "     \"</code>\\n\"+\n",
       "     \"</div>\"}};\n",
       "\n",
       "  function display_loaded() {\n",
       "    var el = document.getElementById(\"1040\");\n",
       "    if (el != null) {\n",
       "      el.textContent = \"BokehJS is loading...\";\n",
       "    }\n",
       "    if (root.Bokeh !== undefined) {\n",
       "      if (el != null) {\n",
       "        el.textContent = \"BokehJS \" + root.Bokeh.version + \" successfully loaded.\";\n",
       "      }\n",
       "    } else if (Date.now() < root._bokeh_timeout) {\n",
       "      setTimeout(display_loaded, 100)\n",
       "    }\n",
       "  }\n",
       "\n",
       "\n",
       "  function run_callbacks() {\n",
       "    try {\n",
       "      root._bokeh_onload_callbacks.forEach(function(callback) { callback() });\n",
       "    }\n",
       "    finally {\n",
       "      delete root._bokeh_onload_callbacks\n",
       "    }\n",
       "    console.info(\"Bokeh: all callbacks have finished\");\n",
       "  }\n",
       "\n",
       "  function load_libs(js_urls, callback) {\n",
       "    root._bokeh_onload_callbacks.push(callback);\n",
       "    if (root._bokeh_is_loading > 0) {\n",
       "      console.log(\"Bokeh: BokehJS is being loaded, scheduling callback at\", now());\n",
       "      return null;\n",
       "    }\n",
       "    if (js_urls == null || js_urls.length === 0) {\n",
       "      run_callbacks();\n",
       "      return null;\n",
       "    }\n",
       "    console.log(\"Bokeh: BokehJS not loaded, scheduling load and callback at\", now());\n",
       "    root._bokeh_is_loading = js_urls.length;\n",
       "    for (var i = 0; i < js_urls.length; i++) {\n",
       "      var url = js_urls[i];\n",
       "      var s = document.createElement('script');\n",
       "      s.src = url;\n",
       "      s.async = false;\n",
       "      s.onreadystatechange = s.onload = function() {\n",
       "        root._bokeh_is_loading--;\n",
       "        if (root._bokeh_is_loading === 0) {\n",
       "          console.log(\"Bokeh: all BokehJS libraries loaded\");\n",
       "          run_callbacks()\n",
       "        }\n",
       "      };\n",
       "      s.onerror = function() {\n",
       "        console.warn(\"failed to load library \" + url);\n",
       "      };\n",
       "      console.log(\"Bokeh: injecting script tag for BokehJS library: \", url);\n",
       "      document.getElementsByTagName(\"head\")[0].appendChild(s);\n",
       "    }\n",
       "  };var element = document.getElementById(\"1040\");\n",
       "  if (element == null) {\n",
       "    console.log(\"Bokeh: ERROR: autoload.js configured with elementid '1040' but no matching script tag was found. \")\n",
       "    return false;\n",
       "  }\n",
       "\n",
       "  var js_urls = [\"https://cdn.pydata.org/bokeh/release/bokeh-0+unknown.min.js\", \"https://cdn.pydata.org/bokeh/release/bokeh-widgets-0+unknown.min.js\", \"https://cdn.pydata.org/bokeh/release/bokeh-tables-0+unknown.min.js\", \"https://cdn.pydata.org/bokeh/release/bokeh-gl-0+unknown.min.js\"];\n",
       "\n",
       "  var inline_js = [\n",
       "    function(Bokeh) {\n",
       "      Bokeh.set_log_level(\"info\");\n",
       "    },\n",
       "    \n",
       "    function(Bokeh) {\n",
       "      \n",
       "    },\n",
       "    function(Bokeh) {\n",
       "      console.log(\"Bokeh: injecting CSS: https://cdn.pydata.org/bokeh/release/bokeh-0+unknown.min.css\");\n",
       "      Bokeh.embed.inject_css(\"https://cdn.pydata.org/bokeh/release/bokeh-0+unknown.min.css\");\n",
       "      console.log(\"Bokeh: injecting CSS: https://cdn.pydata.org/bokeh/release/bokeh-widgets-0+unknown.min.css\");\n",
       "      Bokeh.embed.inject_css(\"https://cdn.pydata.org/bokeh/release/bokeh-widgets-0+unknown.min.css\");\n",
       "      console.log(\"Bokeh: injecting CSS: https://cdn.pydata.org/bokeh/release/bokeh-tables-0+unknown.min.css\");\n",
       "      Bokeh.embed.inject_css(\"https://cdn.pydata.org/bokeh/release/bokeh-tables-0+unknown.min.css\");\n",
       "    }\n",
       "  ];\n",
       "\n",
       "  function run_inline_js() {\n",
       "    \n",
       "    if ((root.Bokeh !== undefined) || (force === true)) {\n",
       "      for (var i = 0; i < inline_js.length; i++) {\n",
       "        inline_js[i].call(root, root.Bokeh);\n",
       "      }if (force === true) {\n",
       "        display_loaded();\n",
       "      }} else if (Date.now() < root._bokeh_timeout) {\n",
       "      setTimeout(run_inline_js, 100);\n",
       "    } else if (!root._bokeh_failed_load) {\n",
       "      console.log(\"Bokeh: BokehJS failed to load within specified timeout.\");\n",
       "      root._bokeh_failed_load = true;\n",
       "    } else if (force !== true) {\n",
       "      var cell = $(document.getElementById(\"1040\")).parents('.cell').data().cell;\n",
       "      cell.output_area.append_execute_result(NB_LOAD_WARNING)\n",
       "    }\n",
       "\n",
       "  }\n",
       "\n",
       "  if (root._bokeh_is_loading === 0) {\n",
       "    console.log(\"Bokeh: BokehJS loaded, going straight to plotting\");\n",
       "    run_inline_js();\n",
       "  } else {\n",
       "    load_libs(js_urls, function() {\n",
       "      console.log(\"Bokeh: BokehJS plotting callback run at\", now());\n",
       "      run_inline_js();\n",
       "    });\n",
       "  }\n",
       "}(window));"
      ],
      "application/vnd.bokehjs_load.v0+json": "\n(function(root) {\n  function now() {\n    return new Date();\n  }\n\n  var force = true;\n\n  if (typeof (root._bokeh_onload_callbacks) === \"undefined\" || force === true) {\n    root._bokeh_onload_callbacks = [];\n    root._bokeh_is_loading = undefined;\n  }\n\n  \n\n  \n  if (typeof (root._bokeh_timeout) === \"undefined\" || force === true) {\n    root._bokeh_timeout = Date.now() + 5000;\n    root._bokeh_failed_load = false;\n  }\n\n  var NB_LOAD_WARNING = {'data': {'text/html':\n     \"<div style='background-color: #fdd'>\\n\"+\n     \"<p>\\n\"+\n     \"BokehJS does not appear to have successfully loaded. If loading BokehJS from CDN, this \\n\"+\n     \"may be due to a slow or bad network connection. Possible fixes:\\n\"+\n     \"</p>\\n\"+\n     \"<ul>\\n\"+\n     \"<li>re-rerun `output_notebook()` to attempt to load from CDN again, or</li>\\n\"+\n     \"<li>use INLINE resources instead, as so:</li>\\n\"+\n     \"</ul>\\n\"+\n     \"<code>\\n\"+\n     \"from bokeh.resources import INLINE\\n\"+\n     \"output_notebook(resources=INLINE)\\n\"+\n     \"</code>\\n\"+\n     \"</div>\"}};\n\n  function display_loaded() {\n    var el = document.getElementById(\"1040\");\n    if (el != null) {\n      el.textContent = \"BokehJS is loading...\";\n    }\n    if (root.Bokeh !== undefined) {\n      if (el != null) {\n        el.textContent = \"BokehJS \" + root.Bokeh.version + \" successfully loaded.\";\n      }\n    } else if (Date.now() < root._bokeh_timeout) {\n      setTimeout(display_loaded, 100)\n    }\n  }\n\n\n  function run_callbacks() {\n    try {\n      root._bokeh_onload_callbacks.forEach(function(callback) { callback() });\n    }\n    finally {\n      delete root._bokeh_onload_callbacks\n    }\n    console.info(\"Bokeh: all callbacks have finished\");\n  }\n\n  function load_libs(js_urls, callback) {\n    root._bokeh_onload_callbacks.push(callback);\n    if (root._bokeh_is_loading > 0) {\n      console.log(\"Bokeh: BokehJS is being loaded, scheduling callback at\", now());\n      return null;\n    }\n    if (js_urls == null || js_urls.length === 0) {\n      run_callbacks();\n      return null;\n    }\n    console.log(\"Bokeh: BokehJS not loaded, scheduling load and callback at\", now());\n    root._bokeh_is_loading = js_urls.length;\n    for (var i = 0; i < js_urls.length; i++) {\n      var url = js_urls[i];\n      var s = document.createElement('script');\n      s.src = url;\n      s.async = false;\n      s.onreadystatechange = s.onload = function() {\n        root._bokeh_is_loading--;\n        if (root._bokeh_is_loading === 0) {\n          console.log(\"Bokeh: all BokehJS libraries loaded\");\n          run_callbacks()\n        }\n      };\n      s.onerror = function() {\n        console.warn(\"failed to load library \" + url);\n      };\n      console.log(\"Bokeh: injecting script tag for BokehJS library: \", url);\n      document.getElementsByTagName(\"head\")[0].appendChild(s);\n    }\n  };var element = document.getElementById(\"1040\");\n  if (element == null) {\n    console.log(\"Bokeh: ERROR: autoload.js configured with elementid '1040' but no matching script tag was found. \")\n    return false;\n  }\n\n  var js_urls = [\"https://cdn.pydata.org/bokeh/release/bokeh-0+unknown.min.js\", \"https://cdn.pydata.org/bokeh/release/bokeh-widgets-0+unknown.min.js\", \"https://cdn.pydata.org/bokeh/release/bokeh-tables-0+unknown.min.js\", \"https://cdn.pydata.org/bokeh/release/bokeh-gl-0+unknown.min.js\"];\n\n  var inline_js = [\n    function(Bokeh) {\n      Bokeh.set_log_level(\"info\");\n    },\n    \n    function(Bokeh) {\n      \n    },\n    function(Bokeh) {\n      console.log(\"Bokeh: injecting CSS: https://cdn.pydata.org/bokeh/release/bokeh-0+unknown.min.css\");\n      Bokeh.embed.inject_css(\"https://cdn.pydata.org/bokeh/release/bokeh-0+unknown.min.css\");\n      console.log(\"Bokeh: injecting CSS: https://cdn.pydata.org/bokeh/release/bokeh-widgets-0+unknown.min.css\");\n      Bokeh.embed.inject_css(\"https://cdn.pydata.org/bokeh/release/bokeh-widgets-0+unknown.min.css\");\n      console.log(\"Bokeh: injecting CSS: https://cdn.pydata.org/bokeh/release/bokeh-tables-0+unknown.min.css\");\n      Bokeh.embed.inject_css(\"https://cdn.pydata.org/bokeh/release/bokeh-tables-0+unknown.min.css\");\n    }\n  ];\n\n  function run_inline_js() {\n    \n    if ((root.Bokeh !== undefined) || (force === true)) {\n      for (var i = 0; i < inline_js.length; i++) {\n        inline_js[i].call(root, root.Bokeh);\n      }if (force === true) {\n        display_loaded();\n      }} else if (Date.now() < root._bokeh_timeout) {\n      setTimeout(run_inline_js, 100);\n    } else if (!root._bokeh_failed_load) {\n      console.log(\"Bokeh: BokehJS failed to load within specified timeout.\");\n      root._bokeh_failed_load = true;\n    } else if (force !== true) {\n      var cell = $(document.getElementById(\"1040\")).parents('.cell').data().cell;\n      cell.output_area.append_execute_result(NB_LOAD_WARNING)\n    }\n\n  }\n\n  if (root._bokeh_is_loading === 0) {\n    console.log(\"Bokeh: BokehJS loaded, going straight to plotting\");\n    run_inline_js();\n  } else {\n    load_libs(js_urls, function() {\n      console.log(\"Bokeh: BokehJS plotting callback run at\", now());\n      run_inline_js();\n    });\n  }\n}(window));"
     },
     "metadata": {},
     "output_type": "display_data"
    },
    {
     "data": {
      "text/html": [
       "\n",
       "\n",
       "\n",
       "\n",
       "\n",
       "\n",
       "  <div class=\"bk-root\" id=\"03196da8-8397-4eb8-b0fe-30ecf8db7667\"></div>\n"
      ]
     },
     "metadata": {},
     "output_type": "display_data"
    },
    {
     "data": {
      "application/javascript": [
       "(function(root) {\n",
       "  function embed_document(root) {\n",
       "    \n",
       "  var docs_json = {\"592f2c40-41b7-496e-bbe8-a009fdee3721\":{\"roots\":{\"references\":[{\"attributes\":{\"plot_height\":300,\"plot_width\":500,\"renderers\":[{\"id\":\"1036\",\"type\":\"BoxAnnotation\"},{\"id\":\"1003\",\"type\":\"GraphRenderer\"}],\"title\":{\"id\":\"1044\",\"type\":\"Title\"},\"toolbar\":{\"id\":\"1035\",\"type\":\"Toolbar\"},\"x_range\":{\"id\":\"1017\",\"type\":\"Range1d\"},\"x_scale\":{\"id\":\"1041\",\"type\":\"LinearScale\"},\"y_range\":{\"id\":\"1018\",\"type\":\"Range1d\"},\"y_scale\":{\"id\":\"1042\",\"type\":\"LinearScale\"}},\"id\":\"1019\",\"type\":\"Plot\"},{\"attributes\":{},\"id\":\"1058\",\"type\":\"Selection\"},{\"attributes\":{\"fill_color\":{\"field\":\"color\"},\"size\":{\"units\":\"screen\",\"value\":8}},\"id\":\"1022\",\"type\":\"Circle\"},{\"attributes\":{\"bottom_units\":\"screen\",\"fill_alpha\":{\"value\":0.5},\"fill_color\":{\"value\":\"lightgrey\"},\"left_units\":\"screen\",\"level\":\"overlay\",\"line_alpha\":{\"value\":1.0},\"line_color\":{\"value\":\"black\"},\"line_dash\":[4,4],\"line_width\":{\"value\":2},\"plot\":null,\"render_mode\":\"css\",\"right_units\":\"screen\",\"top_units\":\"screen\"},\"id\":\"1036\",\"type\":\"BoxAnnotation\"},{\"attributes\":{\"callback\":null,\"end\":1.1,\"start\":-1.1},\"id\":\"1017\",\"type\":\"Range1d\"},{\"attributes\":{},\"id\":\"1056\",\"type\":\"Selection\"},{\"attributes\":{},\"id\":\"1059\",\"type\":\"UnionRenderers\"},{\"attributes\":{\"graph_layout\":{\"A\":[-0.025743670486775054,-0.16390104553107993],\"B\":[0.14616558378395708,-0.27576959188194966],\"C\":[-0.22675941594236232,-0.1830138503031474],\"D\":[0.10155118275154204,0.8347319325833783],\"E\":[0.06825302683172664,-0.34378057130162026],\"F\":[-0.164518898123992,-1.0],\"FIVE\":[0.1645346706662129,0.8772860147834611],\"FOUR\":[0.037255024912579836,-0.10302173342699265],\"ONE\":[0.05736012338634156,-0.25495900627121165],\"THREE\":[-0.1373936526059763,-0.17515137276932508],\"TWENTY_EIGHT\":[0.03635625659899825,0.8686918407467059],\"TWO\":[-0.05706023177225256,-0.08111261662821874]}},\"id\":\"1016\",\"type\":\"StaticLayoutProvider\"},{\"attributes\":{\"active_drag\":\"auto\",\"active_inspect\":\"auto\",\"active_multi\":null,\"active_scroll\":\"auto\",\"active_tap\":\"auto\",\"tools\":[{\"id\":\"1032\",\"type\":\"HoverTool\"},{\"id\":\"1033\",\"type\":\"BoxZoomTool\"},{\"id\":\"1034\",\"type\":\"ResetTool\"}]},\"id\":\"1035\",\"type\":\"Toolbar\"},{\"attributes\":{\"data_source\":{\"id\":\"1005\",\"type\":\"ColumnDataSource\"},\"glyph\":{\"id\":\"1022\",\"type\":\"Circle\"},\"hover_glyph\":null,\"muted_glyph\":null,\"view\":{\"id\":\"1007\",\"type\":\"CDSView\"}},\"id\":\"1006\",\"type\":\"GlyphRenderer\"},{\"attributes\":{},\"id\":\"1041\",\"type\":\"LinearScale\"},{\"attributes\":{\"callback\":null,\"data\":{\"end\":[\"ONE\",\"TWO\",\"THREE\",\"FOUR\",\"ONE\",\"THREE\",\"FIVE\",\"TWENTY_EIGHT\",\"ONE\"],\"start\":[\"A\",\"A\",\"A\",\"A\",\"B\",\"C\",\"D\",\"D\",\"E\"],\"weight\":[0.8,0.8,0.8,0.8,0.8,0.8,0.8,0.8,0.8]},\"selected\":{\"id\":\"1058\",\"type\":\"Selection\"},\"selection_policy\":{\"id\":\"1059\",\"type\":\"UnionRenderers\"}},\"id\":\"1009\",\"type\":\"ColumnDataSource\"},{\"attributes\":{},\"id\":\"1053\",\"type\":\"NodesOnly\"},{\"attributes\":{\"callback\":null,\"renderers\":\"auto\",\"tooltips\":[[\"name\",\"@index\"]]},\"id\":\"1032\",\"type\":\"HoverTool\"},{\"attributes\":{\"source\":{\"id\":\"1005\",\"type\":\"ColumnDataSource\"}},\"id\":\"1007\",\"type\":\"CDSView\"},{\"attributes\":{},\"id\":\"1034\",\"type\":\"ResetTool\"},{\"attributes\":{},\"id\":\"1057\",\"type\":\"UnionRenderers\"},{\"attributes\":{\"edge_renderer\":{\"id\":\"1010\",\"type\":\"GlyphRenderer\"},\"inspection_policy\":{\"id\":\"1053\",\"type\":\"NodesOnly\"},\"layout_provider\":{\"id\":\"1016\",\"type\":\"StaticLayoutProvider\"},\"node_renderer\":{\"id\":\"1006\",\"type\":\"GlyphRenderer\"},\"selection_policy\":{\"id\":\"1054\",\"type\":\"NodesOnly\"}},\"id\":\"1003\",\"type\":\"GraphRenderer\"},{\"attributes\":{},\"id\":\"1054\",\"type\":\"NodesOnly\"},{\"attributes\":{\"plot\":null,\"text\":\"\"},\"id\":\"1044\",\"type\":\"Title\"},{\"attributes\":{\"overlay\":{\"id\":\"1036\",\"type\":\"BoxAnnotation\"}},\"id\":\"1033\",\"type\":\"BoxZoomTool\"},{\"attributes\":{},\"id\":\"1042\",\"type\":\"LinearScale\"},{\"attributes\":{\"callback\":null,\"data\":{\"color\":[\"green\",\"green\",\"green\",\"green\",\"green\",\"green\",\"blue\",\"blue\",\"blue\",\"blue\",\"blue\",\"blue\"],\"index\":[\"A\",\"B\",\"C\",\"D\",\"E\",\"F\",\"ONE\",\"TWO\",\"THREE\",\"FOUR\",\"FIVE\",\"TWENTY_EIGHT\"]},\"selected\":{\"id\":\"1056\",\"type\":\"Selection\"},\"selection_policy\":{\"id\":\"1057\",\"type\":\"UnionRenderers\"}},\"id\":\"1005\",\"type\":\"ColumnDataSource\"},{\"attributes\":{\"line_alpha\":{\"value\":0.8}},\"id\":\"1027\",\"type\":\"MultiLine\"},{\"attributes\":{\"source\":{\"id\":\"1009\",\"type\":\"ColumnDataSource\"}},\"id\":\"1011\",\"type\":\"CDSView\"},{\"attributes\":{\"data_source\":{\"id\":\"1009\",\"type\":\"ColumnDataSource\"},\"glyph\":{\"id\":\"1027\",\"type\":\"MultiLine\"},\"hover_glyph\":null,\"muted_glyph\":null,\"view\":{\"id\":\"1011\",\"type\":\"CDSView\"}},\"id\":\"1010\",\"type\":\"GlyphRenderer\"},{\"attributes\":{\"callback\":null,\"end\":1.1,\"start\":-1.1},\"id\":\"1018\",\"type\":\"Range1d\"}],\"root_ids\":[\"1019\"]},\"title\":\"Bokeh Application\",\"version\":\"0+unknown\"}};\n",
       "  var render_items = [{\"docid\":\"592f2c40-41b7-496e-bbe8-a009fdee3721\",\"roots\":{\"1019\":\"03196da8-8397-4eb8-b0fe-30ecf8db7667\"}}];\n",
       "  root.Bokeh.embed.embed_items_notebook(docs_json, render_items);\n",
       "\n",
       "  }\n",
       "  if (root.Bokeh !== undefined) {\n",
       "    embed_document(root);\n",
       "  } else {\n",
       "    var attempts = 0;\n",
       "    var timer = setInterval(function(root) {\n",
       "      if (root.Bokeh !== undefined) {\n",
       "        embed_document(root);\n",
       "        clearInterval(timer);\n",
       "      }\n",
       "      attempts++;\n",
       "      if (attempts > 100) {\n",
       "        console.log(\"Bokeh: ERROR: Unable to run BokehJS code because BokehJS library is missing\");\n",
       "        clearInterval(timer);\n",
       "      }\n",
       "    }, 10, root)\n",
       "  }\n",
       "})(window);"
      ],
      "application/vnd.bokehjs_exec.v0+json": ""
     },
     "metadata": {
      "application/vnd.bokehjs_exec.v0+json": {
       "id": "1019"
      }
     },
     "output_type": "display_data"
    }
   ],
   "source": [
    "# Start Bokeh Code\n",
    "\n",
    "# From bokeh 1.0, it is now possible to pass a fixed layout to the 'layout_function' attribute of ''from_networkx' function.\n",
    "# See Also: issue #8311 (https://github.com/bokeh/bokeh/issues/8311)\n",
    "graph_renderer = from_networkx(G, layout)\n",
    "\n",
    "plot = Plot(plot_width=500, plot_height=300,\n",
    "            x_range=Range1d(-1.1, 1.1), y_range=Range1d(-1.1, 1.1))\n",
    "\n",
    "# from_networkx passes the node/edge attributes to GraphRenderer's node_renderer/edge_renderer.\n",
    "# See Also: issue #8183 (https://github.com/bokeh/bokeh/issues/8183)\n",
    "# Change node color with node attributes named  ''color'\n",
    "graph_renderer.node_renderer.glyph = Circle(size=8, fill_color='color')\n",
    "graph_renderer.edge_renderer.glyph = MultiLine(line_alpha=0.8, line_width=1)\n",
    "\n",
    "# 'index' has node keys\n",
    "hover = HoverTool(tooltips=[('name', '@index')])\n",
    "plot.add_tools(hover, BoxZoomTool(), ResetTool())\n",
    "\n",
    "plot.renderers.append(graph_renderer)\n",
    "\n",
    "output_notebook()\n",
    "show(plot)"
   ]
  },
  {
   "cell_type": "markdown",
   "metadata": {},
   "source": [
    "# How to access node/edge attributes and layout in Bokeh\n",
    "- See Also:\n",
    "    + GraphRenderer: https://bokeh.pydata.org/en/latest/docs/reference/models/renderers.html#bokeh.models.renderers.GraphRenderer"
   ]
  },
  {
   "cell_type": "code",
   "execution_count": 5,
   "metadata": {
    "ExecuteTime": {
     "end_time": "2018-10-12T09:17:57.721386Z",
     "start_time": "2018-10-12T09:17:57.709890Z"
    }
   },
   "outputs": [
    {
     "data": {
      "text/plain": [
       "{'color': ['green',\n",
       "  'green',\n",
       "  'green',\n",
       "  'green',\n",
       "  'green',\n",
       "  'green',\n",
       "  'blue',\n",
       "  'blue',\n",
       "  'blue',\n",
       "  'blue',\n",
       "  'blue',\n",
       "  'blue'],\n",
       " 'index': ['A',\n",
       "  'B',\n",
       "  'C',\n",
       "  'D',\n",
       "  'E',\n",
       "  'F',\n",
       "  'ONE',\n",
       "  'TWO',\n",
       "  'THREE',\n",
       "  'FOUR',\n",
       "  'FIVE',\n",
       "  'TWENTY_EIGHT']}"
      ]
     },
     "execution_count": 5,
     "metadata": {},
     "output_type": "execute_result"
    }
   ],
   "source": [
    "# Node attributes in Bokeh's GraphRenderer\n",
    "# 'index' is node key\n",
    "graph_renderer.node_renderer.data_source.data"
   ]
  },
  {
   "cell_type": "code",
   "execution_count": 6,
   "metadata": {
    "ExecuteTime": {
     "end_time": "2018-10-12T09:17:57.735717Z",
     "start_time": "2018-10-12T09:17:57.725542Z"
    }
   },
   "outputs": [
    {
     "data": {
      "text/plain": [
       "{'weight': [0.8, 0.8, 0.8, 0.8, 0.8, 0.8, 0.8, 0.8, 0.8],\n",
       " 'start': ['A', 'A', 'A', 'A', 'B', 'C', 'D', 'D', 'E'],\n",
       " 'end': ['ONE',\n",
       "  'TWO',\n",
       "  'THREE',\n",
       "  'FOUR',\n",
       "  'ONE',\n",
       "  'THREE',\n",
       "  'FIVE',\n",
       "  'TWENTY_EIGHT',\n",
       "  'ONE']}"
      ]
     },
     "execution_count": 6,
     "metadata": {},
     "output_type": "execute_result"
    }
   ],
   "source": [
    "# Edge attributes in Bokeh's GraphRenderer\n",
    "# 'start' and 'end' are edge keys\n",
    "graph_renderer.edge_renderer.data_source.data"
   ]
  },
  {
   "cell_type": "code",
   "execution_count": 7,
   "metadata": {
    "ExecuteTime": {
     "end_time": "2018-10-12T09:17:57.755833Z",
     "start_time": "2018-10-12T09:17:57.740247Z"
    }
   },
   "outputs": [
    {
     "data": {
      "text/plain": [
       "{'A': array([-0.02574367, -0.16390105]),\n",
       " 'B': array([ 0.14616558, -0.27576959]),\n",
       " 'C': array([-0.22675942, -0.18301385]),\n",
       " 'D': array([ 0.10155118,  0.83473193]),\n",
       " 'E': array([ 0.06825303, -0.34378057]),\n",
       " 'F': array([-0.1645189, -1.       ]),\n",
       " 'ONE': array([ 0.05736012, -0.25495901]),\n",
       " 'TWO': array([-0.05706023, -0.08111262]),\n",
       " 'THREE': array([-0.13739365, -0.17515137]),\n",
       " 'FOUR': array([ 0.03725502, -0.10302173]),\n",
       " 'FIVE': array([ 0.16453467,  0.87728601]),\n",
       " 'TWENTY_EIGHT': array([ 0.03635626,  0.86869184])}"
      ]
     },
     "execution_count": 7,
     "metadata": {},
     "output_type": "execute_result"
    }
   ],
   "source": [
    "# Layout\n",
    "graph_renderer.layout_provider.graph_layout"
   ]
  },
  {
   "cell_type": "markdown",
   "metadata": {
    "ExecuteTime": {
     "end_time": "2018-10-11T12:57:07.180807Z",
     "start_time": "2018-10-11T12:57:07.172567Z"
    }
   },
   "source": [
    "# How to change node size with node attributes\n",
    "- It's possible to change node size with node attributes in a similar way.\n",
    "- However, there are a few points to note.\n",
    "    - NetworkX's nx.draw function (matplotlib): 'size' is **area** of circle\n",
    "    - Bokeh's Circle: 'size' is **radius** of circle\n",
    "    - Therefore, **it's necessary to to adjust the size for bokeh**"
   ]
  },
  {
   "cell_type": "code",
   "execution_count": 8,
   "metadata": {
    "ExecuteTime": {
     "end_time": "2018-10-12T09:17:58.034677Z",
     "start_time": "2018-10-12T09:17:57.760311Z"
    }
   },
   "outputs": [
    {
     "data": {
      "image/png": "[encoded data removed]",
      "text/plain": [
       "<matplotlib.figure.Figure at 0x11a3674a8>"
      ]
     },
     "metadata": {},
     "output_type": "display_data"
    }
   ],
   "source": [
    "# Prepare Data\n",
    "Dataset1 = ['A', 'B', 'C', 'D', 'E', 'F']\n",
    "Dataset2 = ['ONE', 'TWO', 'THREE', 'FOUR', 'FIVE', 'TWENTY_EIGHT']\n",
    "Edgelist = [('A', 'ONE'), ('B', 'ONE'), ('E', 'ONE'), ('A', 'TWO'),\n",
    "            ('A', 'THREE'), ('A', 'FOUR'), ('C', 'THREE'), ('D', 'FIVE'), ('D', 'TWENTY_EIGHT')]\n",
    "G = nx.Graph()\n",
    "G.add_nodes_from(Dataset1, color='green')\n",
    "G.add_nodes_from(Dataset2, color='blue')\n",
    "\n",
    "# Add size information as node attributes\n",
    "G.add_nodes_from(Dataset1, size_for_networkx=400)\n",
    "G.add_nodes_from(Dataset2, size_for_networkx=50)\n",
    "\n",
    "G.add_edges_from(Edgelist, weight=0.8)\n",
    "\n",
    "layout = nx.spring_layout(G, k= 1.1 / sqrt(G.number_of_nodes()), iterations=100)\n",
    "\n",
    "# Draw with NetworkX / matplotlib\n",
    "nx.draw(G,\n",
    "        layout,\n",
    "        node_color=[attr['color'] for node, attr in G.nodes(data=True)],\n",
    "        node_size=[attr['size_for_networkx'] for node, attr in G.nodes(data=True)])"
   ]
  },
  {
   "cell_type": "code",
   "execution_count": 9,
   "metadata": {
    "ExecuteTime": {
     "end_time": "2018-10-12T09:17:58.183456Z",
     "start_time": "2018-10-12T09:17:58.039108Z"
    },
    "code_folding": []
   },
   "outputs": [
    {
     "data": {
      "text/html": [
       "\n",
       "    <div class=\"bk-root\">\n",
       "        <a href=\"https://bokeh.pydata.org\" target=\"_blank\" class=\"bk-logo bk-logo-small bk-logo-notebook\"></a>\n",
       "        <span id=\"1241\">Loading BokehJS ...</span>\n",
       "    </div>"
      ]
     },
     "metadata": {},
     "output_type": "display_data"
    },
    {
     "data": {
      "application/javascript": [
       "\n",
       "(function(root) {\n",
       "  function now() {\n",
       "    return new Date();\n",
       "  }\n",
       "\n",
       "  var force = true;\n",
       "\n",
       "  if (typeof (root._bokeh_onload_callbacks) === \"undefined\" || force === true) {\n",
       "    root._bokeh_onload_callbacks = [];\n",
       "    root._bokeh_is_loading = undefined;\n",
       "  }\n",
       "\n",
       "  var JS_MIME_TYPE = 'application/javascript';\n",
       "  var HTML_MIME_TYPE = 'text/html';\n",
       "  var EXEC_MIME_TYPE = 'application/vnd.bokehjs_exec.v0+json';\n",
       "  var CLASS_NAME = 'output_bokeh rendered_html';\n",
       "\n",
       "  /**\n",
       "   * Render data to the DOM node\n",
       "   */\n",
       "  function render(props, node) {\n",
       "    var script = document.createElement(\"script\");\n",
       "    node.appendChild(script);\n",
       "  }\n",
       "\n",
       "  /**\n",
       "   * Handle when an output is cleared or removed\n",
       "   */\n",
       "  function handleClearOutput(event, handle) {\n",
       "    var cell = handle.cell;\n",
       "\n",
       "    var id = cell.output_area._bokeh_element_id;\n",
       "    var server_id = cell.output_area._bokeh_server_id;\n",
       "    // Clean up Bokeh references\n",
       "    if (id != null && id in Bokeh.index) {\n",
       "      Bokeh.index[id].model.document.clear();\n",
       "      delete Bokeh.index[id];\n",
       "    }\n",
       "\n",
       "    if (server_id !== undefined) {\n",
       "      // Clean up Bokeh references\n",
       "      var cmd = \"from bokeh.io.state import curstate; print(curstate().uuid_to_server['\" + server_id + \"'].get_sessions()[0].document.roots[0]._id)\";\n",
       "      cell.notebook.kernel.execute(cmd, {\n",
       "        iopub: {\n",
       "          output: function(msg) {\n",
       "            var id = msg.content.text.trim();\n",
       "            if (id in Bokeh.index) {\n",
       "              Bokeh.index[id].model.document.clear();\n",
       "              delete Bokeh.index[id];\n",
       "            }\n",
       "          }\n",
       "        }\n",
       "      });\n",
       "      // Destroy server and session\n",
       "      var cmd = \"import bokeh.io.notebook as ion; ion.destroy_server('\" + server_id + \"')\";\n",
       "      cell.notebook.kernel.execute(cmd);\n",
       "    }\n",
       "  }\n",
       "\n",
       "  /**\n",
       "   * Handle when a new output is added\n",
       "   */\n",
       "  function handleAddOutput(event, handle) {\n",
       "    var output_area = handle.output_area;\n",
       "    var output = handle.output;\n",
       "\n",
       "    // limit handleAddOutput to display_data with EXEC_MIME_TYPE content only\n",
       "    if ((output.output_type != \"display_data\") || (!output.data.hasOwnProperty(EXEC_MIME_TYPE))) {\n",
       "      return\n",
       "    }\n",
       "\n",
       "    var toinsert = output_area.element.find(\".\" + CLASS_NAME.split(' ')[0]);\n",
       "\n",
       "    if (output.metadata[EXEC_MIME_TYPE][\"id\"] !== undefined) {\n",
       "      toinsert[toinsert.length - 1].firstChild.textContent = output.data[JS_MIME_TYPE];\n",
       "      // store reference to embed id on output_area\n",
       "      output_area._bokeh_element_id = output.metadata[EXEC_MIME_TYPE][\"id\"];\n",
       "    }\n",
       "    if (output.metadata[EXEC_MIME_TYPE][\"server_id\"] !== undefined) {\n",
       "      var bk_div = document.createElement(\"div\");\n",
       "      bk_div.innerHTML = output.data[HTML_MIME_TYPE];\n",
       "      var script_attrs = bk_div.children[0].attributes;\n",
       "      for (var i = 0; i < script_attrs.length; i++) {\n",
       "        toinsert[toinsert.length - 1].firstChild.setAttribute(script_attrs[i].name, script_attrs[i].value);\n",
       "      }\n",
       "      // store reference to server id on output_area\n",
       "      output_area._bokeh_server_id = output.metadata[EXEC_MIME_TYPE][\"server_id\"];\n",
       "    }\n",
       "  }\n",
       "\n",
       "  function register_renderer(events, OutputArea) {\n",
       "\n",
       "    function append_mime(data, metadata, element) {\n",
       "      // create a DOM node to render to\n",
       "      var toinsert = this.create_output_subarea(\n",
       "        metadata,\n",
       "        CLASS_NAME,\n",
       "        EXEC_MIME_TYPE\n",
       "      );\n",
       "      this.keyboard_manager.register_events(toinsert);\n",
       "      // Render to node\n",
       "      var props = {data: data, metadata: metadata[EXEC_MIME_TYPE]};\n",
       "      render(props, toinsert[toinsert.length - 1]);\n",
       "      element.append(toinsert);\n",
       "      return toinsert\n",
       "    }\n",
       "\n",
       "    /* Handle when an output is cleared or removed */\n",
       "    events.on('clear_output.CodeCell', handleClearOutput);\n",
       "    events.on('delete.Cell', handleClearOutput);\n",
       "\n",
       "    /* Handle when a new output is added */\n",
       "    events.on('output_added.OutputArea', handleAddOutput);\n",
       "\n",
       "    /**\n",
       "     * Register the mime type and append_mime function with output_area\n",
       "     */\n",
       "    OutputArea.prototype.register_mime_type(EXEC_MIME_TYPE, append_mime, {\n",
       "      /* Is output safe? */\n",
       "      safe: true,\n",
       "      /* Index of renderer in `output_area.display_order` */\n",
       "      index: 0\n",
       "    });\n",
       "  }\n",
       "\n",
       "  // register the mime type if in Jupyter Notebook environment and previously unregistered\n",
       "  if (root.Jupyter !== undefined) {\n",
       "    var events = require('base/js/events');\n",
       "    var OutputArea = require('notebook/js/outputarea').OutputArea;\n",
       "\n",
       "    if (OutputArea.prototype.mime_types().indexOf(EXEC_MIME_TYPE) == -1) {\n",
       "      register_renderer(events, OutputArea);\n",
       "    }\n",
       "  }\n",
       "\n",
       "  \n",
       "  if (typeof (root._bokeh_timeout) === \"undefined\" || force === true) {\n",
       "    root._bokeh_timeout = Date.now() + 5000;\n",
       "    root._bokeh_failed_load = false;\n",
       "  }\n",
       "\n",
       "  var NB_LOAD_WARNING = {'data': {'text/html':\n",
       "     \"<div style='background-color: #fdd'>\\n\"+\n",
       "     \"<p>\\n\"+\n",
       "     \"BokehJS does not appear to have successfully loaded. If loading BokehJS from CDN, this \\n\"+\n",
       "     \"may be due to a slow or bad network connection. Possible fixes:\\n\"+\n",
       "     \"</p>\\n\"+\n",
       "     \"<ul>\\n\"+\n",
       "     \"<li>re-rerun `output_notebook()` to attempt to load from CDN again, or</li>\\n\"+\n",
       "     \"<li>use INLINE resources instead, as so:</li>\\n\"+\n",
       "     \"</ul>\\n\"+\n",
       "     \"<code>\\n\"+\n",
       "     \"from bokeh.resources import INLINE\\n\"+\n",
       "     \"output_notebook(resources=INLINE)\\n\"+\n",
       "     \"</code>\\n\"+\n",
       "     \"</div>\"}};\n",
       "\n",
       "  function display_loaded() {\n",
       "    var el = document.getElementById(\"1241\");\n",
       "    if (el != null) {\n",
       "      el.textContent = \"BokehJS is loading...\";\n",
       "    }\n",
       "    if (root.Bokeh !== undefined) {\n",
       "      if (el != null) {\n",
       "        el.textContent = \"BokehJS \" + root.Bokeh.version + \" successfully loaded.\";\n",
       "      }\n",
       "    } else if (Date.now() < root._bokeh_timeout) {\n",
       "      setTimeout(display_loaded, 100)\n",
       "    }\n",
       "  }\n",
       "\n",
       "\n",
       "  function run_callbacks() {\n",
       "    try {\n",
       "      root._bokeh_onload_callbacks.forEach(function(callback) { callback() });\n",
       "    }\n",
       "    finally {\n",
       "      delete root._bokeh_onload_callbacks\n",
       "    }\n",
       "    console.info(\"Bokeh: all callbacks have finished\");\n",
       "  }\n",
       "\n",
       "  function load_libs(js_urls, callback) {\n",
       "    root._bokeh_onload_callbacks.push(callback);\n",
       "    if (root._bokeh_is_loading > 0) {\n",
       "      console.log(\"Bokeh: BokehJS is being loaded, scheduling callback at\", now());\n",
       "      return null;\n",
       "    }\n",
       "    if (js_urls == null || js_urls.length === 0) {\n",
       "      run_callbacks();\n",
       "      return null;\n",
       "    }\n",
       "    console.log(\"Bokeh: BokehJS not loaded, scheduling load and callback at\", now());\n",
       "    root._bokeh_is_loading = js_urls.length;\n",
       "    for (var i = 0; i < js_urls.length; i++) {\n",
       "      var url = js_urls[i];\n",
       "      var s = document.createElement('script');\n",
       "      s.src = url;\n",
       "      s.async = false;\n",
       "      s.onreadystatechange = s.onload = function() {\n",
       "        root._bokeh_is_loading--;\n",
       "        if (root._bokeh_is_loading === 0) {\n",
       "          console.log(\"Bokeh: all BokehJS libraries loaded\");\n",
       "          run_callbacks()\n",
       "        }\n",
       "      };\n",
       "      s.onerror = function() {\n",
       "        console.warn(\"failed to load library \" + url);\n",
       "      };\n",
       "      console.log(\"Bokeh: injecting script tag for BokehJS library: \", url);\n",
       "      document.getElementsByTagName(\"head\")[0].appendChild(s);\n",
       "    }\n",
       "  };var element = document.getElementById(\"1241\");\n",
       "  if (element == null) {\n",
       "    console.log(\"Bokeh: ERROR: autoload.js configured with elementid '1241' but no matching script tag was found. \")\n",
       "    return false;\n",
       "  }\n",
       "\n",
       "  var js_urls = [\"https://cdn.pydata.org/bokeh/release/bokeh-0+unknown.min.js\", \"https://cdn.pydata.org/bokeh/release/bokeh-widgets-0+unknown.min.js\", \"https://cdn.pydata.org/bokeh/release/bokeh-tables-0+unknown.min.js\", \"https://cdn.pydata.org/bokeh/release/bokeh-gl-0+unknown.min.js\"];\n",
       "\n",
       "  var inline_js = [\n",
       "    function(Bokeh) {\n",
       "      Bokeh.set_log_level(\"info\");\n",
       "    },\n",
       "    \n",
       "    function(Bokeh) {\n",
       "      \n",
       "    },\n",
       "    function(Bokeh) {\n",
       "      console.log(\"Bokeh: injecting CSS: https://cdn.pydata.org/bokeh/release/bokeh-0+unknown.min.css\");\n",
       "      Bokeh.embed.inject_css(\"https://cdn.pydata.org/bokeh/release/bokeh-0+unknown.min.css\");\n",
       "      console.log(\"Bokeh: injecting CSS: https://cdn.pydata.org/bokeh/release/bokeh-widgets-0+unknown.min.css\");\n",
       "      Bokeh.embed.inject_css(\"https://cdn.pydata.org/bokeh/release/bokeh-widgets-0+unknown.min.css\");\n",
       "      console.log(\"Bokeh: injecting CSS: https://cdn.pydata.org/bokeh/release/bokeh-tables-0+unknown.min.css\");\n",
       "      Bokeh.embed.inject_css(\"https://cdn.pydata.org/bokeh/release/bokeh-tables-0+unknown.min.css\");\n",
       "    }\n",
       "  ];\n",
       "\n",
       "  function run_inline_js() {\n",
       "    \n",
       "    if ((root.Bokeh !== undefined) || (force === true)) {\n",
       "      for (var i = 0; i < inline_js.length; i++) {\n",
       "        inline_js[i].call(root, root.Bokeh);\n",
       "      }if (force === true) {\n",
       "        display_loaded();\n",
       "      }} else if (Date.now() < root._bokeh_timeout) {\n",
       "      setTimeout(run_inline_js, 100);\n",
       "    } else if (!root._bokeh_failed_load) {\n",
       "      console.log(\"Bokeh: BokehJS failed to load within specified timeout.\");\n",
       "      root._bokeh_failed_load = true;\n",
       "    } else if (force !== true) {\n",
       "      var cell = $(document.getElementById(\"1241\")).parents('.cell').data().cell;\n",
       "      cell.output_area.append_execute_result(NB_LOAD_WARNING)\n",
       "    }\n",
       "\n",
       "  }\n",
       "\n",
       "  if (root._bokeh_is_loading === 0) {\n",
       "    console.log(\"Bokeh: BokehJS loaded, going straight to plotting\");\n",
       "    run_inline_js();\n",
       "  } else {\n",
       "    load_libs(js_urls, function() {\n",
       "      console.log(\"Bokeh: BokehJS plotting callback run at\", now());\n",
       "      run_inline_js();\n",
       "    });\n",
       "  }\n",
       "}(window));"
      ],
      "application/vnd.bokehjs_load.v0+json": "\n(function(root) {\n  function now() {\n    return new Date();\n  }\n\n  var force = true;\n\n  if (typeof (root._bokeh_onload_callbacks) === \"undefined\" || force === true) {\n    root._bokeh_onload_callbacks = [];\n    root._bokeh_is_loading = undefined;\n  }\n\n  \n\n  \n  if (typeof (root._bokeh_timeout) === \"undefined\" || force === true) {\n    root._bokeh_timeout = Date.now() + 5000;\n    root._bokeh_failed_load = false;\n  }\n\n  var NB_LOAD_WARNING = {'data': {'text/html':\n     \"<div style='background-color: #fdd'>\\n\"+\n     \"<p>\\n\"+\n     \"BokehJS does not appear to have successfully loaded. If loading BokehJS from CDN, this \\n\"+\n     \"may be due to a slow or bad network connection. Possible fixes:\\n\"+\n     \"</p>\\n\"+\n     \"<ul>\\n\"+\n     \"<li>re-rerun `output_notebook()` to attempt to load from CDN again, or</li>\\n\"+\n     \"<li>use INLINE resources instead, as so:</li>\\n\"+\n     \"</ul>\\n\"+\n     \"<code>\\n\"+\n     \"from bokeh.resources import INLINE\\n\"+\n     \"output_notebook(resources=INLINE)\\n\"+\n     \"</code>\\n\"+\n     \"</div>\"}};\n\n  function display_loaded() {\n    var el = document.getElementById(\"1241\");\n    if (el != null) {\n      el.textContent = \"BokehJS is loading...\";\n    }\n    if (root.Bokeh !== undefined) {\n      if (el != null) {\n        el.textContent = \"BokehJS \" + root.Bokeh.version + \" successfully loaded.\";\n      }\n    } else if (Date.now() < root._bokeh_timeout) {\n      setTimeout(display_loaded, 100)\n    }\n  }\n\n\n  function run_callbacks() {\n    try {\n      root._bokeh_onload_callbacks.forEach(function(callback) { callback() });\n    }\n    finally {\n      delete root._bokeh_onload_callbacks\n    }\n    console.info(\"Bokeh: all callbacks have finished\");\n  }\n\n  function load_libs(js_urls, callback) {\n    root._bokeh_onload_callbacks.push(callback);\n    if (root._bokeh_is_loading > 0) {\n      console.log(\"Bokeh: BokehJS is being loaded, scheduling callback at\", now());\n      return null;\n    }\n    if (js_urls == null || js_urls.length === 0) {\n      run_callbacks();\n      return null;\n    }\n    console.log(\"Bokeh: BokehJS not loaded, scheduling load and callback at\", now());\n    root._bokeh_is_loading = js_urls.length;\n    for (var i = 0; i < js_urls.length; i++) {\n      var url = js_urls[i];\n      var s = document.createElement('script');\n      s.src = url;\n      s.async = false;\n      s.onreadystatechange = s.onload = function() {\n        root._bokeh_is_loading--;\n        if (root._bokeh_is_loading === 0) {\n          console.log(\"Bokeh: all BokehJS libraries loaded\");\n          run_callbacks()\n        }\n      };\n      s.onerror = function() {\n        console.warn(\"failed to load library \" + url);\n      };\n      console.log(\"Bokeh: injecting script tag for BokehJS library: \", url);\n      document.getElementsByTagName(\"head\")[0].appendChild(s);\n    }\n  };var element = document.getElementById(\"1241\");\n  if (element == null) {\n    console.log(\"Bokeh: ERROR: autoload.js configured with elementid '1241' but no matching script tag was found. \")\n    return false;\n  }\n\n  var js_urls = [\"https://cdn.pydata.org/bokeh/release/bokeh-0+unknown.min.js\", \"https://cdn.pydata.org/bokeh/release/bokeh-widgets-0+unknown.min.js\", \"https://cdn.pydata.org/bokeh/release/bokeh-tables-0+unknown.min.js\", \"https://cdn.pydata.org/bokeh/release/bokeh-gl-0+unknown.min.js\"];\n\n  var inline_js = [\n    function(Bokeh) {\n      Bokeh.set_log_level(\"info\");\n    },\n    \n    function(Bokeh) {\n      \n    },\n    function(Bokeh) {\n      console.log(\"Bokeh: injecting CSS: https://cdn.pydata.org/bokeh/release/bokeh-0+unknown.min.css\");\n      Bokeh.embed.inject_css(\"https://cdn.pydata.org/bokeh/release/bokeh-0+unknown.min.css\");\n      console.log(\"Bokeh: injecting CSS: https://cdn.pydata.org/bokeh/release/bokeh-widgets-0+unknown.min.css\");\n      Bokeh.embed.inject_css(\"https://cdn.pydata.org/bokeh/release/bokeh-widgets-0+unknown.min.css\");\n      console.log(\"Bokeh: injecting CSS: https://cdn.pydata.org/bokeh/release/bokeh-tables-0+unknown.min.css\");\n      Bokeh.embed.inject_css(\"https://cdn.pydata.org/bokeh/release/bokeh-tables-0+unknown.min.css\");\n    }\n  ];\n\n  function run_inline_js() {\n    \n    if ((root.Bokeh !== undefined) || (force === true)) {\n      for (var i = 0; i < inline_js.length; i++) {\n        inline_js[i].call(root, root.Bokeh);\n      }if (force === true) {\n        display_loaded();\n      }} else if (Date.now() < root._bokeh_timeout) {\n      setTimeout(run_inline_js, 100);\n    } else if (!root._bokeh_failed_load) {\n      console.log(\"Bokeh: BokehJS failed to load within specified timeout.\");\n      root._bokeh_failed_load = true;\n    } else if (force !== true) {\n      var cell = $(document.getElementById(\"1241\")).parents('.cell').data().cell;\n      cell.output_area.append_execute_result(NB_LOAD_WARNING)\n    }\n\n  }\n\n  if (root._bokeh_is_loading === 0) {\n    console.log(\"Bokeh: BokehJS loaded, going straight to plotting\");\n    run_inline_js();\n  } else {\n    load_libs(js_urls, function() {\n      console.log(\"Bokeh: BokehJS plotting callback run at\", now());\n      run_inline_js();\n    });\n  }\n}(window));"
     },
     "metadata": {},
     "output_type": "display_data"
    },
    {
     "data": {
      "text/html": [
       "\n",
       "\n",
       "\n",
       "\n",
       "\n",
       "\n",
       "  <div class=\"bk-root\" id=\"b33388cc-3695-4f9c-9ed2-363e6bd6b58d\"></div>\n"
      ]
     },
     "metadata": {},
     "output_type": "display_data"
    },
    {
     "data": {
      "application/javascript": [
       "(function(root) {\n",
       "  function embed_document(root) {\n",
       "    \n",
       "  var docs_json = {\"6d2bb2c3-40c0-4510-9dbb-37092e298e63\":{\"roots\":{\"references\":[{\"attributes\":{\"plot_height\":300,\"plot_width\":500,\"renderers\":[{\"id\":\"1237\",\"type\":\"BoxAnnotation\"},{\"id\":\"1204\",\"type\":\"GraphRenderer\"}],\"title\":{\"id\":\"1264\",\"type\":\"Title\"},\"toolbar\":{\"id\":\"1236\",\"type\":\"Toolbar\"},\"x_range\":{\"id\":\"1218\",\"type\":\"Range1d\"},\"x_scale\":{\"id\":\"1261\",\"type\":\"LinearScale\"},\"y_range\":{\"id\":\"1219\",\"type\":\"Range1d\"},\"y_scale\":{\"id\":\"1262\",\"type\":\"LinearScale\"}},\"id\":\"1220\",\"type\":\"Plot\"},{\"attributes\":{\"data_source\":{\"id\":\"1206\",\"type\":\"ColumnDataSource\"},\"glyph\":{\"id\":\"1223\",\"type\":\"Circle\"},\"hover_glyph\":null,\"muted_glyph\":null,\"view\":{\"id\":\"1208\",\"type\":\"CDSView\"}},\"id\":\"1207\",\"type\":\"GlyphRenderer\"},{\"attributes\":{},\"id\":\"1279\",\"type\":\"UnionRenderers\"},{\"attributes\":{\"callback\":null,\"renderers\":\"auto\",\"tooltips\":[[\"name\",\"@index\"]]},\"id\":\"1233\",\"type\":\"HoverTool\"},{\"attributes\":{\"callback\":null,\"data\":{\"color\":[\"green\",\"green\",\"green\",\"green\",\"green\",\"green\",\"blue\",\"blue\",\"blue\",\"blue\",\"blue\",\"blue\"],\"index\":[\"A\",\"B\",\"C\",\"D\",\"E\",\"F\",\"ONE\",\"TWO\",\"THREE\",\"FOUR\",\"FIVE\",\"TWENTY_EIGHT\"],\"size_for_bokeh\":[11.283791670955125,11.283791670955125,11.283791670955125,11.283791670955125,11.283791670955125,11.283791670955125,3.989422804014327,3.989422804014327,3.989422804014327,3.989422804014327,3.989422804014327,3.989422804014327],\"size_for_networkx\":[400,400,400,400,400,400,50,50,50,50,50,50]},\"selected\":{\"id\":\"1276\",\"type\":\"Selection\"},\"selection_policy\":{\"id\":\"1277\",\"type\":\"UnionRenderers\"}},\"id\":\"1206\",\"type\":\"ColumnDataSource\"},{\"attributes\":{\"source\":{\"id\":\"1210\",\"type\":\"ColumnDataSource\"}},\"id\":\"1212\",\"type\":\"CDSView\"},{\"attributes\":{},\"id\":\"1274\",\"type\":\"NodesOnly\"},{\"attributes\":{\"source\":{\"id\":\"1206\",\"type\":\"ColumnDataSource\"}},\"id\":\"1208\",\"type\":\"CDSView\"},{\"attributes\":{},\"id\":\"1277\",\"type\":\"UnionRenderers\"},{\"attributes\":{},\"id\":\"1273\",\"type\":\"NodesOnly\"},{\"attributes\":{\"callback\":null,\"end\":1.1,\"start\":-1.1},\"id\":\"1218\",\"type\":\"Range1d\"},{\"attributes\":{},\"id\":\"1261\",\"type\":\"LinearScale\"},{\"attributes\":{},\"id\":\"1235\",\"type\":\"ResetTool\"},{\"attributes\":{\"line_alpha\":{\"value\":0.8}},\"id\":\"1228\",\"type\":\"MultiLine\"},{\"attributes\":{},\"id\":\"1276\",\"type\":\"Selection\"},{\"attributes\":{\"fill_color\":{\"field\":\"color\"},\"size\":{\"field\":\"size_for_bokeh\",\"units\":\"screen\"}},\"id\":\"1223\",\"type\":\"Circle\"},{\"attributes\":{\"graph_layout\":{\"A\":[-0.22422038538170252,-0.19550648963166573],\"B\":[-0.16304619186339714,0.020465485440379766],\"C\":[-0.07048564091089755,-0.3594796361412424],\"D\":[0.8652929302536286,0.32303715276231826],\"E\":[-0.27848215863870246,0.024040869185960115],\"F\":[-1.0,0.3586221895463606],\"FIVE\":[0.9080249901945638,0.3987460980954075],\"FOUR\":[-0.26844993955888224,-0.28542005690010197],\"ONE\":[-0.22081993160584498,-0.058912709493050934],\"THREE\":[-0.13415771451190003,-0.2824238981410132],\"TWENTY_EIGHT\":[0.9098535012826259,0.2555929306301008],\"TWO\":[-0.32350945925949176,-0.1987619353534528]}},\"id\":\"1217\",\"type\":\"StaticLayoutProvider\"},{\"attributes\":{\"active_drag\":\"auto\",\"active_inspect\":\"auto\",\"active_multi\":null,\"active_scroll\":\"auto\",\"active_tap\":\"auto\",\"tools\":[{\"id\":\"1233\",\"type\":\"HoverTool\"},{\"id\":\"1234\",\"type\":\"BoxZoomTool\"},{\"id\":\"1235\",\"type\":\"ResetTool\"}]},\"id\":\"1236\",\"type\":\"Toolbar\"},{\"attributes\":{\"edge_renderer\":{\"id\":\"1211\",\"type\":\"GlyphRenderer\"},\"inspection_policy\":{\"id\":\"1273\",\"type\":\"NodesOnly\"},\"layout_provider\":{\"id\":\"1217\",\"type\":\"StaticLayoutProvider\"},\"node_renderer\":{\"id\":\"1207\",\"type\":\"GlyphRenderer\"},\"selection_policy\":{\"id\":\"1274\",\"type\":\"NodesOnly\"}},\"id\":\"1204\",\"type\":\"GraphRenderer\"},{\"attributes\":{\"data_source\":{\"id\":\"1210\",\"type\":\"ColumnDataSource\"},\"glyph\":{\"id\":\"1228\",\"type\":\"MultiLine\"},\"hover_glyph\":null,\"muted_glyph\":null,\"view\":{\"id\":\"1212\",\"type\":\"CDSView\"}},\"id\":\"1211\",\"type\":\"GlyphRenderer\"},{\"attributes\":{\"callback\":null,\"end\":1.1,\"start\":-1.1},\"id\":\"1219\",\"type\":\"Range1d\"},{\"attributes\":{},\"id\":\"1262\",\"type\":\"LinearScale\"},{\"attributes\":{},\"id\":\"1278\",\"type\":\"Selection\"},{\"attributes\":{\"callback\":null,\"data\":{\"end\":[\"ONE\",\"TWO\",\"THREE\",\"FOUR\",\"ONE\",\"THREE\",\"FIVE\",\"TWENTY_EIGHT\",\"ONE\"],\"start\":[\"A\",\"A\",\"A\",\"A\",\"B\",\"C\",\"D\",\"D\",\"E\"],\"weight\":[0.8,0.8,0.8,0.8,0.8,0.8,0.8,0.8,0.8]},\"selected\":{\"id\":\"1278\",\"type\":\"Selection\"},\"selection_policy\":{\"id\":\"1279\",\"type\":\"UnionRenderers\"}},\"id\":\"1210\",\"type\":\"ColumnDataSource\"},{\"attributes\":{\"bottom_units\":\"screen\",\"fill_alpha\":{\"value\":0.5},\"fill_color\":{\"value\":\"lightgrey\"},\"left_units\":\"screen\",\"level\":\"overlay\",\"line_alpha\":{\"value\":1.0},\"line_color\":{\"value\":\"black\"},\"line_dash\":[4,4],\"line_width\":{\"value\":2},\"plot\":null,\"render_mode\":\"css\",\"right_units\":\"screen\",\"top_units\":\"screen\"},\"id\":\"1237\",\"type\":\"BoxAnnotation\"},{\"attributes\":{\"overlay\":{\"id\":\"1237\",\"type\":\"BoxAnnotation\"}},\"id\":\"1234\",\"type\":\"BoxZoomTool\"},{\"attributes\":{\"plot\":null,\"text\":\"\"},\"id\":\"1264\",\"type\":\"Title\"}],\"root_ids\":[\"1220\"]},\"title\":\"Bokeh Application\",\"version\":\"0+unknown\"}};\n",
       "  var render_items = [{\"docid\":\"6d2bb2c3-40c0-4510-9dbb-37092e298e63\",\"roots\":{\"1220\":\"b33388cc-3695-4f9c-9ed2-363e6bd6b58d\"}}];\n",
       "  root.Bokeh.embed.embed_items_notebook(docs_json, render_items);\n",
       "\n",
       "  }\n",
       "  if (root.Bokeh !== undefined) {\n",
       "    embed_document(root);\n",
       "  } else {\n",
       "    var attempts = 0;\n",
       "    var timer = setInterval(function(root) {\n",
       "      if (root.Bokeh !== undefined) {\n",
       "        embed_document(root);\n",
       "        clearInterval(timer);\n",
       "      }\n",
       "      attempts++;\n",
       "      if (attempts > 100) {\n",
       "        console.log(\"Bokeh: ERROR: Unable to run BokehJS code because BokehJS library is missing\");\n",
       "        clearInterval(timer);\n",
       "      }\n",
       "    }, 10, root)\n",
       "  }\n",
       "})(window);"
      ],
      "application/vnd.bokehjs_exec.v0+json": ""
     },
     "metadata": {
      "application/vnd.bokehjs_exec.v0+json": {
       "id": "1220"
      }
     },
     "output_type": "display_data"
    }
   ],
   "source": [
    "# Set node size for Bokeh\n",
    "def calc_radius(area: float) -> float:\n",
    "    r = np.sqrt(area / np.pi)\n",
    "    return r\n",
    "\n",
    "size_for_bokeh = {node: calc_radius(attr['size_for_networkx']) for node, attr in G.nodes(data=True)}\n",
    "nx.set_node_attributes(G, size_for_bokeh, 'size_for_bokeh')\n",
    "\n",
    "# Start Bokeh code\n",
    "graph_renderer = from_networkx(G, layout)\n",
    "\n",
    "plot = Plot(plot_width=500, plot_height=300,\n",
    "            x_range=Range1d(-1.1, 1.1), y_range=Range1d(-1.1, 1.1))\n",
    "\n",
    "# Change node size with node attributes\n",
    "graph_renderer.node_renderer.glyph = Circle(size='size_for_bokeh', fill_color='color')\n",
    "graph_renderer.edge_renderer.glyph = MultiLine(line_alpha=0.8, line_width=1)\n",
    "\n",
    "hover = HoverTool(tooltips=[('name', '@index')])\n",
    "plot.add_tools(hover, BoxZoomTool(), ResetTool())\n",
    "\n",
    "plot.renderers.append(graph_renderer)\n",
    "\n",
    "output_notebook()\n",
    "show(plot)"
   ]
  },
  {
   "cell_type": "markdown",
   "metadata": {},
   "source": [
    "- repository:\n",
    "    + https://github.com/komo-fr/networkx2bokeh_note/blob/master/notebooks/how_to_change_color_and_size.ipynb\n",
    "- nbviewer:\n",
    "    + http://nbviewer.jupyter.org/github/komo-fr/networkx2bokeh_note/blob/master/notebooks/how_to_change_color_and_size.ipynb"
   ]
  }
 ],
 "metadata": {
  "hide_input": false,
  "kernelspec": {
   "display_name": "Environment (conda_pepmap_env)",
   "language": "python",
   "name": "conda_pepmap_env"
  },
  "language_info": {
   "codemirror_mode": {
    "name": "ipython",
    "version": 3
   },
   "file_extension": ".py",
   "mimetype": "text/x-python",
   "name": "python",
   "nbconvert_exporter": "python",
   "pygments_lexer": "ipython3",
   "version": "3.6.2"
  },
  "varInspector": {
   "cols": {
    "lenName": 16,
    "lenType": 16,
    "lenVar": 40
   },
   "kernels_config": {
    "python": {
     "delete_cmd_postfix": "",
     "delete_cmd_prefix": "del ",
     "library": "var_list.py",
     "varRefreshCmd": "print(var_dic_list())"
    },
    "r": {
     "delete_cmd_postfix": ") ",
     "delete_cmd_prefix": "rm(",
     "library": "var_list.r",
     "varRefreshCmd": "cat(var_dic_list()) "
    }
   },
   "types_to_exclude": [
    "module",
    "function",
    "builtin_function_or_method",
    "instance",
    "_Feature"
   ],
   "window_display": false
  }
 },
 "nbformat": 4,
 "nbformat_minor": 2
}
